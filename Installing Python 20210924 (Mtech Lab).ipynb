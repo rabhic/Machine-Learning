{
 "cells": [
  {
   "cell_type": "code",
   "execution_count": 1,
   "id": "0573e640",
   "metadata": {},
   "outputs": [
    {
     "name": "stderr",
     "output_type": "stream",
     "text": [
      "Matplotlib is building the font cache; this may take a moment.\n"
     ]
    }
   ],
   "source": [
    "import seaborn as sns"
   ]
  },
  {
   "cell_type": "code",
   "execution_count": 2,
   "id": "63c01a54",
   "metadata": {},
   "outputs": [],
   "source": [
    "iris = sns.load_dataset('iris')"
   ]
  },
  {
   "cell_type": "code",
   "execution_count": 6,
   "id": "b0344d1a",
   "metadata": {},
   "outputs": [
    {
     "data": {
      "text/html": [
       "<div>\n",
       "<style scoped>\n",
       "    .dataframe tbody tr th:only-of-type {\n",
       "        vertical-align: middle;\n",
       "    }\n",
       "\n",
       "    .dataframe tbody tr th {\n",
       "        vertical-align: top;\n",
       "    }\n",
       "\n",
       "    .dataframe thead th {\n",
       "        text-align: right;\n",
       "    }\n",
       "</style>\n",
       "<table border=\"1\" class=\"dataframe\">\n",
       "  <thead>\n",
       "    <tr style=\"text-align: right;\">\n",
       "      <th></th>\n",
       "      <th>sepal_length</th>\n",
       "      <th>sepal_width</th>\n",
       "      <th>petal_length</th>\n",
       "      <th>petal_width</th>\n",
       "      <th>species</th>\n",
       "    </tr>\n",
       "  </thead>\n",
       "  <tbody>\n",
       "    <tr>\n",
       "      <th>0</th>\n",
       "      <td>5.1</td>\n",
       "      <td>3.5</td>\n",
       "      <td>1.4</td>\n",
       "      <td>0.2</td>\n",
       "      <td>setosa</td>\n",
       "    </tr>\n",
       "    <tr>\n",
       "      <th>1</th>\n",
       "      <td>4.9</td>\n",
       "      <td>3.0</td>\n",
       "      <td>1.4</td>\n",
       "      <td>0.2</td>\n",
       "      <td>setosa</td>\n",
       "    </tr>\n",
       "    <tr>\n",
       "      <th>2</th>\n",
       "      <td>4.7</td>\n",
       "      <td>3.2</td>\n",
       "      <td>1.3</td>\n",
       "      <td>0.2</td>\n",
       "      <td>setosa</td>\n",
       "    </tr>\n",
       "    <tr>\n",
       "      <th>3</th>\n",
       "      <td>4.6</td>\n",
       "      <td>3.1</td>\n",
       "      <td>1.5</td>\n",
       "      <td>0.2</td>\n",
       "      <td>setosa</td>\n",
       "    </tr>\n",
       "    <tr>\n",
       "      <th>4</th>\n",
       "      <td>5.0</td>\n",
       "      <td>3.6</td>\n",
       "      <td>1.4</td>\n",
       "      <td>0.2</td>\n",
       "      <td>setosa</td>\n",
       "    </tr>\n",
       "    <tr>\n",
       "      <th>...</th>\n",
       "      <td>...</td>\n",
       "      <td>...</td>\n",
       "      <td>...</td>\n",
       "      <td>...</td>\n",
       "      <td>...</td>\n",
       "    </tr>\n",
       "    <tr>\n",
       "      <th>145</th>\n",
       "      <td>6.7</td>\n",
       "      <td>3.0</td>\n",
       "      <td>5.2</td>\n",
       "      <td>2.3</td>\n",
       "      <td>virginica</td>\n",
       "    </tr>\n",
       "    <tr>\n",
       "      <th>146</th>\n",
       "      <td>6.3</td>\n",
       "      <td>2.5</td>\n",
       "      <td>5.0</td>\n",
       "      <td>1.9</td>\n",
       "      <td>virginica</td>\n",
       "    </tr>\n",
       "    <tr>\n",
       "      <th>147</th>\n",
       "      <td>6.5</td>\n",
       "      <td>3.0</td>\n",
       "      <td>5.2</td>\n",
       "      <td>2.0</td>\n",
       "      <td>virginica</td>\n",
       "    </tr>\n",
       "    <tr>\n",
       "      <th>148</th>\n",
       "      <td>6.2</td>\n",
       "      <td>3.4</td>\n",
       "      <td>5.4</td>\n",
       "      <td>2.3</td>\n",
       "      <td>virginica</td>\n",
       "    </tr>\n",
       "    <tr>\n",
       "      <th>149</th>\n",
       "      <td>5.9</td>\n",
       "      <td>3.0</td>\n",
       "      <td>5.1</td>\n",
       "      <td>1.8</td>\n",
       "      <td>virginica</td>\n",
       "    </tr>\n",
       "  </tbody>\n",
       "</table>\n",
       "<p>150 rows × 5 columns</p>\n",
       "</div>"
      ],
      "text/plain": [
       "     sepal_length  sepal_width  petal_length  petal_width    species\n",
       "0             5.1          3.5           1.4          0.2     setosa\n",
       "1             4.9          3.0           1.4          0.2     setosa\n",
       "2             4.7          3.2           1.3          0.2     setosa\n",
       "3             4.6          3.1           1.5          0.2     setosa\n",
       "4             5.0          3.6           1.4          0.2     setosa\n",
       "..            ...          ...           ...          ...        ...\n",
       "145           6.7          3.0           5.2          2.3  virginica\n",
       "146           6.3          2.5           5.0          1.9  virginica\n",
       "147           6.5          3.0           5.2          2.0  virginica\n",
       "148           6.2          3.4           5.4          2.3  virginica\n",
       "149           5.9          3.0           5.1          1.8  virginica\n",
       "\n",
       "[150 rows x 5 columns]"
      ]
     },
     "execution_count": 6,
     "metadata": {},
     "output_type": "execute_result"
    }
   ],
   "source": [
    "iris"
   ]
  },
  {
   "cell_type": "code",
   "execution_count": 7,
   "id": "cf41c316",
   "metadata": {},
   "outputs": [
    {
     "data": {
      "text/html": [
       "<div>\n",
       "<style scoped>\n",
       "    .dataframe tbody tr th:only-of-type {\n",
       "        vertical-align: middle;\n",
       "    }\n",
       "\n",
       "    .dataframe tbody tr th {\n",
       "        vertical-align: top;\n",
       "    }\n",
       "\n",
       "    .dataframe thead th {\n",
       "        text-align: right;\n",
       "    }\n",
       "</style>\n",
       "<table border=\"1\" class=\"dataframe\">\n",
       "  <thead>\n",
       "    <tr style=\"text-align: right;\">\n",
       "      <th></th>\n",
       "      <th>sepal_length</th>\n",
       "      <th>sepal_width</th>\n",
       "      <th>petal_length</th>\n",
       "      <th>petal_width</th>\n",
       "    </tr>\n",
       "  </thead>\n",
       "  <tbody>\n",
       "    <tr>\n",
       "      <th>count</th>\n",
       "      <td>150.000000</td>\n",
       "      <td>150.000000</td>\n",
       "      <td>150.000000</td>\n",
       "      <td>150.000000</td>\n",
       "    </tr>\n",
       "    <tr>\n",
       "      <th>mean</th>\n",
       "      <td>5.843333</td>\n",
       "      <td>3.057333</td>\n",
       "      <td>3.758000</td>\n",
       "      <td>1.199333</td>\n",
       "    </tr>\n",
       "    <tr>\n",
       "      <th>std</th>\n",
       "      <td>0.828066</td>\n",
       "      <td>0.435866</td>\n",
       "      <td>1.765298</td>\n",
       "      <td>0.762238</td>\n",
       "    </tr>\n",
       "    <tr>\n",
       "      <th>min</th>\n",
       "      <td>4.300000</td>\n",
       "      <td>2.000000</td>\n",
       "      <td>1.000000</td>\n",
       "      <td>0.100000</td>\n",
       "    </tr>\n",
       "    <tr>\n",
       "      <th>25%</th>\n",
       "      <td>5.100000</td>\n",
       "      <td>2.800000</td>\n",
       "      <td>1.600000</td>\n",
       "      <td>0.300000</td>\n",
       "    </tr>\n",
       "    <tr>\n",
       "      <th>50%</th>\n",
       "      <td>5.800000</td>\n",
       "      <td>3.000000</td>\n",
       "      <td>4.350000</td>\n",
       "      <td>1.300000</td>\n",
       "    </tr>\n",
       "    <tr>\n",
       "      <th>75%</th>\n",
       "      <td>6.400000</td>\n",
       "      <td>3.300000</td>\n",
       "      <td>5.100000</td>\n",
       "      <td>1.800000</td>\n",
       "    </tr>\n",
       "    <tr>\n",
       "      <th>max</th>\n",
       "      <td>7.900000</td>\n",
       "      <td>4.400000</td>\n",
       "      <td>6.900000</td>\n",
       "      <td>2.500000</td>\n",
       "    </tr>\n",
       "  </tbody>\n",
       "</table>\n",
       "</div>"
      ],
      "text/plain": [
       "       sepal_length  sepal_width  petal_length  petal_width\n",
       "count    150.000000   150.000000    150.000000   150.000000\n",
       "mean       5.843333     3.057333      3.758000     1.199333\n",
       "std        0.828066     0.435866      1.765298     0.762238\n",
       "min        4.300000     2.000000      1.000000     0.100000\n",
       "25%        5.100000     2.800000      1.600000     0.300000\n",
       "50%        5.800000     3.000000      4.350000     1.300000\n",
       "75%        6.400000     3.300000      5.100000     1.800000\n",
       "max        7.900000     4.400000      6.900000     2.500000"
      ]
     },
     "execution_count": 7,
     "metadata": {},
     "output_type": "execute_result"
    }
   ],
   "source": [
    "iris.describe()\n"
   ]
  },
  {
   "cell_type": "code",
   "execution_count": 8,
   "id": "69e326c0",
   "metadata": {},
   "outputs": [
    {
     "name": "stdout",
     "output_type": "stream",
     "text": [
      "greater than 5\n",
      "grater than 6\n"
     ]
    }
   ],
   "source": [
    "if 5>2:\n",
    "    print(\"greater than 5\")\n",
    "if 6>2:\n",
    "    print(\"grater than 6\")"
   ]
  },
  {
   "cell_type": "code",
   "execution_count": 10,
   "id": "83aebd4f",
   "metadata": {},
   "outputs": [
    {
     "data": {
      "text/plain": [
       "'Hello '"
      ]
     },
     "execution_count": 10,
     "metadata": {},
     "output_type": "execute_result"
    }
   ],
   "source": [
    "\"\"\"Hello \"\"\""
   ]
  },
  {
   "cell_type": "code",
   "execution_count": 1,
   "id": "f1ccfd73",
   "metadata": {},
   "outputs": [
    {
     "name": "stdout",
     "output_type": "stream",
     "text": [
      "Welcome to the Introduction to Python Programming\n"
     ]
    }
   ],
   "source": [
    "print(\"Welcome to the Introduction to Python Programming\")"
   ]
  },
  {
   "cell_type": "code",
   "execution_count": 2,
   "id": "796ecdf2",
   "metadata": {},
   "outputs": [
    {
     "name": "stdout",
     "output_type": "stream",
     "text": [
      "What is yout name : abhishek\n"
     ]
    }
   ],
   "source": [
    "name = input(\"What is yout name : \")"
   ]
  },
  {
   "cell_type": "code",
   "execution_count": 4,
   "id": "25596e39",
   "metadata": {},
   "outputs": [
    {
     "name": "stdout",
     "output_type": "stream",
     "text": [
      "Welcome abhishek to the Introduction_to_Python_Programming\n"
     ]
    }
   ],
   "source": [
    "print(\"Welcome \"+name+ ' to the Introduction_to_Python_Programming')"
   ]
  },
  {
   "cell_type": "code",
   "execution_count": 6,
   "id": "9c2e871c",
   "metadata": {},
   "outputs": [
    {
     "name": "stdout",
     "output_type": "stream",
     "text": [
      "1\n",
      "2\n",
      "3\n",
      "4\n",
      "5\n",
      "6\n",
      "7\n",
      "8\n",
      "9\n"
     ]
    }
   ],
   "source": [
    "for i in range(1,10):\n",
    "    print(i)"
   ]
  },
  {
   "cell_type": "code",
   "execution_count": 9,
   "id": "5080166a",
   "metadata": {},
   "outputs": [
    {
     "name": "stdout",
     "output_type": "stream",
     "text": [
      "Enter a number : -1\n",
      "Number Entered is Negative \n"
     ]
    }
   ],
   "source": [
    "num= int(input(\"Enter a number : \"))\n",
    "if num > 0:\n",
    "    print(\"Number Entered is positive \")\n",
    "else :\n",
    "    print(\"Number Entered is Negative \")"
   ]
  },
  {
   "cell_type": "code",
   "execution_count": null,
   "id": "d0fe76ad",
   "metadata": {},
   "outputs": [
    {
     "name": "stdout",
     "output_type": "stream",
     "text": [
      "Enter Your PIN number : |5\n",
      "Oops! That was no valid number. Try again...\n"
     ]
    }
   ],
   "source": [
    "while True:\n",
    "    try:\n",
    "        num = int(input(\"Enter Your PIN number : \"))\n",
    "        break\n",
    "    except ValueError:\n",
    "        print(\"Oops! That was no valid number. Try again...\")"
   ]
  },
  {
   "cell_type": "code",
   "execution_count": 71,
   "id": "ed8f325a",
   "metadata": {},
   "outputs": [],
   "source": [
    "ValueError??"
   ]
  },
  {
   "cell_type": "markdown",
   "id": "3d2cb16e",
   "metadata": {},
   "source": [
    "# List"
   ]
  },
  {
   "cell_type": "code",
   "execution_count": 1,
   "id": "a10d02ae",
   "metadata": {},
   "outputs": [
    {
     "data": {
      "text/plain": [
       "[1, 2, 3, 4, 5]"
      ]
     },
     "execution_count": 1,
     "metadata": {},
     "output_type": "execute_result"
    }
   ],
   "source": [
    "# Creation of list\n",
    "lis = []\n",
    "lis =[1,2,3,4,5]\n",
    "# Printing tha list\n",
    "lis"
   ]
  },
  {
   "cell_type": "code",
   "execution_count": 2,
   "id": "87986989",
   "metadata": {},
   "outputs": [
    {
     "data": {
      "text/plain": [
       "[1, 2, 3, 'abhi', 8.9, 32]"
      ]
     },
     "execution_count": 2,
     "metadata": {},
     "output_type": "execute_result"
    }
   ],
   "source": [
    "# Adding the values \n",
    "lis = [1,2,3,'abhi',8.9,8*4]\n",
    "lis"
   ]
  },
  {
   "cell_type": "markdown",
   "id": "fbd8e712",
   "metadata": {},
   "source": [
    "1. Creating, accessing and calculating the length of a list"
   ]
  },
  {
   "cell_type": "code",
   "execution_count": 3,
   "id": "b6d8e6bb",
   "metadata": {},
   "outputs": [
    {
     "data": {
      "text/plain": [
       "['Abhi', 'ram ', 'shyam', 'rakesh']"
      ]
     },
     "execution_count": 3,
     "metadata": {},
     "output_type": "execute_result"
    }
   ],
   "source": [
    "# Creating a list of names\n",
    "name = ['Abhi','ram ','shyam','rakesh']\n",
    "name"
   ]
  },
  {
   "cell_type": "code",
   "execution_count": 4,
   "id": "3d65c8b5",
   "metadata": {},
   "outputs": [
    {
     "data": {
      "text/plain": [
       "'shyam'"
      ]
     },
     "execution_count": 4,
     "metadata": {},
     "output_type": "execute_result"
    }
   ],
   "source": [
    "# Accessing the elements in the list\n",
    "name[2]"
   ]
  },
  {
   "cell_type": "code",
   "execution_count": 5,
   "id": "bf710c15",
   "metadata": {},
   "outputs": [
    {
     "data": {
      "text/plain": [
       "4"
      ]
     },
     "execution_count": 5,
     "metadata": {},
     "output_type": "execute_result"
    }
   ],
   "source": [
    "# Calculating the length of the list\n",
    "len(name)"
   ]
  },
  {
   "cell_type": "code",
   "execution_count": 7,
   "id": "a0e35039",
   "metadata": {},
   "outputs": [
    {
     "data": {
      "text/plain": [
       "6"
      ]
     },
     "execution_count": 7,
     "metadata": {},
     "output_type": "execute_result"
    }
   ],
   "source": [
    "# Calculating the lenfth of individual elements in a list\n",
    "len(name[3])"
   ]
  },
  {
   "cell_type": "markdown",
   "id": "00bf484f",
   "metadata": {},
   "source": [
    "2. Assignment operator on Lists"
   ]
  },
  {
   "cell_type": "code",
   "execution_count": 8,
   "id": "d3bbbb07",
   "metadata": {},
   "outputs": [
    {
     "data": {
      "text/plain": [
       "[]"
      ]
     },
     "execution_count": 8,
     "metadata": {},
     "output_type": "execute_result"
    }
   ],
   "source": [
    "# Creating an empty list names \n",
    "names=[]\n",
    "names"
   ]
  },
  {
   "cell_type": "code",
   "execution_count": 9,
   "id": "102b2d35",
   "metadata": {},
   "outputs": [
    {
     "name": "stdout",
     "output_type": "stream",
     "text": [
      "['Abhi', 'ram ', 'shyam', 'rakesh']\n",
      "['Abhi', 'ram ', 'shyam', 'rakesh']\n"
     ]
    }
   ],
   "source": [
    "# Using assignment operator on lists doesn't creat a copy\n",
    "\n",
    "names = name \n",
    "print(names)\n",
    "print(name)"
   ]
  },
  {
   "cell_type": "markdown",
   "id": "9da39b5d",
   "metadata": {},
   "source": [
    "3. Appending two lists to a single ilst"
   ]
  },
  {
   "cell_type": "code",
   "execution_count": 11,
   "id": "bc804e07",
   "metadata": {},
   "outputs": [
    {
     "name": "stdout",
     "output_type": "stream",
     "text": [
      "['BMW', 'Audi', 'Maclern', 'Mercedes']\n",
      "['Honda', 'Ninja', 'yamaha', 'Ducati']\n",
      "['BMW', 'Audi', 'Maclern', 'Mercedes', 'Honda', 'Ninja', 'yamaha', 'Ducati']\n"
     ]
    }
   ],
   "source": [
    "# Creating a new list called cars\n",
    "cars = ['BMW','Audi','Maclern','Mercedes']\n",
    "\n",
    "# Creating a new list called bikes\n",
    "bikes =['Honda','Ninja','yamaha','Ducati']\n",
    "# Appending both the lists\n",
    "vehicels = cars + bikes\n",
    "print(cars)\n",
    "print(bikes)\n",
    "print(vehicels)"
   ]
  },
  {
   "cell_type": "markdown",
   "id": "b3551824",
   "metadata": {},
   "source": [
    "4. Using For and IN in lists"
   ]
  },
  {
   "cell_type": "code",
   "execution_count": 12,
   "id": "37f9a66a",
   "metadata": {},
   "outputs": [
    {
     "name": "stdout",
     "output_type": "stream",
     "text": [
      "28\n"
     ]
    }
   ],
   "source": [
    "# Ceating a list\n",
    "list = [1,2,3,4,5,6,7]\n",
    "\n",
    "# Assigning sum to 0\n",
    "summ = 0\n",
    "\n",
    "# Using a for loop to iterate over list\n",
    "for i in list:\n",
    "    summ = summ+ i\n",
    "print(summ)"
   ]
  },
  {
   "cell_type": "markdown",
   "id": "937e3de5",
   "metadata": {},
   "source": [
    "5 Using IF and IN in lists"
   ]
  },
  {
   "cell_type": "code",
   "execution_count": 14,
   "id": "d634e5c0",
   "metadata": {},
   "outputs": [
    {
     "name": "stdout",
     "output_type": "stream",
     "text": [
      "2 is present\n"
     ]
    }
   ],
   "source": [
    "if 2 in list:\n",
    "    print('2 is present')\n",
    "else:\n",
    "    print('2 is not in list')"
   ]
  },
  {
   "cell_type": "markdown",
   "id": "c7d22d69",
   "metadata": {},
   "source": [
    "6 List methods "
   ]
  },
  {
   "cell_type": "markdown",
   "id": "f38919f1",
   "metadata": {},
   "source": [
    "a) List append method"
   ]
  },
  {
   "cell_type": "code",
   "execution_count": 15,
   "id": "c5af84de",
   "metadata": {},
   "outputs": [
    {
     "name": "stdout",
     "output_type": "stream",
     "text": [
      "Age before append [34, 53, 53, 97]\n",
      "Age after append [34, 53, 53, 97, 100]\n"
     ]
    }
   ],
   "source": [
    "# Creating  a new list\n",
    "age =[34,53,53,97]\n",
    "print('Age before append',age)\n",
    "\n",
    "#Using the append method on the current list age to append new age 100\n",
    "age.append(100)\n",
    "print('Age after append',age)"
   ]
  },
  {
   "cell_type": "markdown",
   "id": "b5cff425",
   "metadata": {},
   "source": [
    "b) List insert method"
   ]
  },
  {
   "cell_type": "code",
   "execution_count": 17,
   "id": "b47c57d6",
   "metadata": {},
   "outputs": [
    {
     "name": "stdout",
     "output_type": "stream",
     "text": [
      "Temperature before insert  [34.7, 89.4, 54.3, 43, 7]\n",
      "Temperature after insert [34.7, 89.4, 54.3, 99.7, 43, 7]\n"
     ]
    }
   ],
   "source": [
    "# Create a new list calld temperature\n",
    "temperature =[34.7,89.4,54.3,43,7]\n",
    "print('Temperature before insert ',temperature)\n",
    "\n",
    "# Insert operation on the existing list, here the index position is 3.\n",
    "temperature.insert(3,99.7)\n",
    "print('Temperature after insert',temperature)"
   ]
  },
  {
   "cell_type": "markdown",
   "id": "f94e2316",
   "metadata": {},
   "source": [
    "c) List extend method"
   ]
  },
  {
   "cell_type": "code",
   "execution_count": 1,
   "id": "1f599e12",
   "metadata": {},
   "outputs": [
    {
     "name": "stdout",
     "output_type": "stream",
     "text": [
      "Names befor extending ['Rakes', 'Alice', 'Bob', 'Oscar']\n",
      "Names after extending  ['Rakes', 'Alice', 'Bob', 'Oscar', 'O', 's', 'c', 'a', 'r']\n"
     ]
    }
   ],
   "source": [
    "# Creating a new list called names\n",
    "names = ['Rakes','Alice','Bob','Oscar']\n",
    "print('Names befor extending',names)\n",
    "\n",
    "names.extend('Oscar')\n",
    "print('Names after extending ',names)"
   ]
  },
  {
   "cell_type": "markdown",
   "id": "6d75c92a",
   "metadata": {},
   "source": [
    "d) List index method"
   ]
  },
  {
   "cell_type": "code",
   "execution_count": 21,
   "id": "30ef55bd",
   "metadata": {},
   "outputs": [
    {
     "name": "stdout",
     "output_type": "stream",
     "text": [
      "Ranks before indexing [488, 348, 90, 892, 271]\n"
     ]
    },
    {
     "data": {
      "text/plain": [
       "3"
      ]
     },
     "execution_count": 21,
     "metadata": {},
     "output_type": "execute_result"
    }
   ],
   "source": [
    "# Creating a new lis called rank\n",
    "ranks = [488,348,90,892,271]\n",
    "print('Ranks before indexing',ranks)\n",
    "\n",
    "# After indexing, type the element that you want to index.\n",
    "ranks.index(892)"
   ]
  },
  {
   "cell_type": "markdown",
   "id": "7358ed8e",
   "metadata": {},
   "source": [
    "e) List remove method"
   ]
  },
  {
   "cell_type": "code",
   "execution_count": 24,
   "id": "47baea77",
   "metadata": {},
   "outputs": [
    {
     "name": "stdout",
     "output_type": "stream",
     "text": [
      "Weight before removing weight 86 [89, 86, 76, 92, 74, 56]\n",
      "Weight after removing weight 86 [89, 76, 92, 74, 56]\n"
     ]
    }
   ],
   "source": [
    "# Creating a new list called \n",
    "weight =[89,86,76,92,74,56]\n",
    "print('Weight before removing weight 86',weight)\n",
    "\n",
    "# After removing 86\n",
    "weight.remove(86)\n",
    "print('Weight after removing weight 86',weight)"
   ]
  },
  {
   "cell_type": "markdown",
   "id": "fb899972",
   "metadata": {},
   "source": [
    "f) List sort method"
   ]
  },
  {
   "cell_type": "code",
   "execution_count": 25,
   "id": "502e7a43",
   "metadata": {},
   "outputs": [
    {
     "name": "stdout",
     "output_type": "stream",
     "text": [
      "Marks before sorting [34, 79, 77, 83, 43, 21]\n",
      "Marks after sorting [21, 34, 43, 77, 79, 83]\n"
     ]
    }
   ],
   "source": [
    "# Creating a list marks\n",
    "marks=[34,79,77,83,43,21]\n",
    "print('Marks before sorting',marks)\n",
    "\n",
    "# After sorting\n",
    "marks.sort()\n",
    "print('Marks after sorting',marks)"
   ]
  },
  {
   "cell_type": "markdown",
   "id": "66cfbbfb",
   "metadata": {},
   "source": [
    "g) List Reverse method"
   ]
  },
  {
   "cell_type": "code",
   "execution_count": 26,
   "id": "5752bf56",
   "metadata": {},
   "outputs": [
    {
     "name": "stdout",
     "output_type": "stream",
     "text": [
      "Cities before reversing ['Patna', 'Mokama', 'Bhagalpur', 'Indore', 'Pune']\n",
      "Cities after reversing ['Pune', 'Indore', 'Bhagalpur', 'Mokama', 'Patna']\n"
     ]
    }
   ],
   "source": [
    "# Creating a list of cities\n",
    "cities =['Patna','Mokama','Bhagalpur','Indore','Pune']\n",
    "print('Cities before reversing',cities)\n",
    "\n",
    "cities.reverse()\n",
    "print(\"Cities after reversing\",cities)"
   ]
  },
  {
   "cell_type": "markdown",
   "id": "6c21068e",
   "metadata": {},
   "source": [
    "h) List pop method"
   ]
  },
  {
   "cell_type": "code",
   "execution_count": 29,
   "id": "288d7f27",
   "metadata": {},
   "outputs": [
    {
     "name": "stdout",
     "output_type": "stream",
     "text": [
      "Branches before poping Desgin ['Cse', 'EC', 'Civil', 'Design', 'Mech', 'IT']\n",
      "Branches after poping Design ['Cse', 'EC', 'Civil', 'Mech', 'IT']\n"
     ]
    }
   ],
   "source": [
    "# Creating a list of branches in NIT Patna\n",
    "branches = ['Cse','EC','Civil','Design','Mech','IT']\n",
    "print('Branches before poping Desgin',branches)\n",
    "\n",
    "# After popping Design \n",
    "branches.pop(3)\n",
    "print('Branches after poping Design',branches)"
   ]
  },
  {
   "cell_type": "markdown",
   "id": "d2538dd7",
   "metadata": {},
   "source": [
    "i) List Slices"
   ]
  },
  {
   "cell_type": "code",
   "execution_count": 33,
   "id": "af4484ab",
   "metadata": {},
   "outputs": [
    {
     "name": "stdout",
     "output_type": "stream",
     "text": [
      "['i', 'h']\n",
      "['i', 'h', 'a']\n",
      "['t', 'h', 'a', 'r']\n"
     ]
    }
   ],
   "source": [
    "lis = ['b','i','h','a','r']\n",
    "print(lis[1:3])\n",
    "print(lis[1:-1])\n",
    "lis[0:2] ='t'\n",
    "print(lis)"
   ]
  },
  {
   "cell_type": "markdown",
   "id": "8b10210c",
   "metadata": {},
   "source": [
    "# Tuples"
   ]
  },
  {
   "cell_type": "code",
   "execution_count": 34,
   "id": "35e62738",
   "metadata": {},
   "outputs": [
    {
     "name": "stdout",
     "output_type": "stream",
     "text": [
      "('Rakesh', 'Ramesh', 'Alice', 'bob', 'oscar', 'john')\n"
     ]
    }
   ],
   "source": [
    "# Creating tuples and printing\n",
    "names = ('Rakesh','Ramesh','Alice','bob','oscar','john')\n",
    "print(names)"
   ]
  },
  {
   "cell_type": "code",
   "execution_count": 41,
   "id": "02c95175",
   "metadata": {},
   "outputs": [
    {
     "name": "stdout",
     "output_type": "stream",
     "text": [
      "oscar\n",
      "Alice\n"
     ]
    }
   ],
   "source": [
    "#indexing in tuples\n",
    "\n",
    "print(names[4])\n",
    "print(names[-4])"
   ]
  },
  {
   "cell_type": "code",
   "execution_count": 47,
   "id": "804adacb",
   "metadata": {},
   "outputs": [
    {
     "name": "stdout",
     "output_type": "stream",
     "text": [
      "(34, 53, 23, 34, 53, 89, 34, 64, 54)\n",
      "(23, 34, 53)\n",
      "(34, 53, 23, 34, 53)\n",
      "(64, 54)\n"
     ]
    }
   ],
   "source": [
    "# Slicing in tuples same as list\n",
    "# Creating tuple marks \n",
    "marks =(34,53,23,34,53,89,34,64,54)\n",
    "print(marks)\n",
    "print(marks[2:5])\n",
    "print(marks[:-4])\n",
    "print(marks[-2:])"
   ]
  },
  {
   "cell_type": "code",
   "execution_count": 52,
   "id": "4f4ac2d5",
   "metadata": {},
   "outputs": [
    {
     "name": "stdout",
     "output_type": "stream",
     "text": [
      "(53, 34, 89, 64)\n",
      "(34, 34, 34)\n",
      "(54, 64, 34, 89, 53, 34, 23, 53, 34)\n"
     ]
    }
   ],
   "source": [
    "print(marks[1:8:2])\n",
    "print(marks[::3])\n",
    "print(marks[::-1])"
   ]
  },
  {
   "cell_type": "code",
   "execution_count": 53,
   "id": "5422fe89",
   "metadata": {},
   "outputs": [
    {
     "name": "stdout",
     "output_type": "stream",
     "text": [
      "('Paneer', 'bread', 'potato', 'beans', 'cucumber')\n",
      "('Chicken', 'beef', 'eggs', 'fish')\n",
      "Meal after concatenating Veg and Non_veg ('Paneer', 'bread', 'potato', 'beans', 'cucumber', 'Chicken', 'beef', 'eggs', 'fish')\n"
     ]
    }
   ],
   "source": [
    "# Concatenating tuples\n",
    "veg = ('Paneer','bread','potato','beans','cucumber')\n",
    "non_veg = ('Chicken','beef','eggs','fish')\n",
    "\n",
    "# Using + operator for concatenating \n",
    "meal =  veg + non_veg\n",
    "print (veg)\n",
    "print(non_veg)\n",
    "print('Meal after concatenating Veg and Non_veg',meal)"
   ]
  },
  {
   "cell_type": "code",
   "execution_count": 68,
   "id": "23f6b45a",
   "metadata": {},
   "outputs": [
    {
     "name": "stdout",
     "output_type": "stream",
     "text": [
      "[3, 5, 2, 3, 3, 5, 2, 3]\n",
      "[3, 5, 2, 3, 3, 5, 2, 3, 3, 5, 2, 3, 3, 5, 2, 3]\n"
     ]
    }
   ],
   "source": [
    "# Multiply inside elements by a scalar to print same element that much time\n",
    "avg = [3,5,2,3]\n",
    "avg_2times=avg*2\n",
    "avg_4times=avg*4\n",
    "print(avg*2)\n",
    "print(avg*4)"
   ]
  },
  {
   "cell_type": "markdown",
   "id": "0c41389f",
   "metadata": {},
   "source": [
    "Tuples Methods"
   ]
  },
  {
   "cell_type": "markdown",
   "id": "d827366d",
   "metadata": {},
   "source": [
    "a) Len Method"
   ]
  },
  {
   "cell_type": "code",
   "execution_count": 59,
   "id": "3f9027ae",
   "metadata": {},
   "outputs": [
    {
     "name": "stdout",
     "output_type": "stream",
     "text": [
      "9\n",
      "4\n"
     ]
    }
   ],
   "source": [
    "# using len() method to print lengof the tuple meals and avg\n",
    "print(len(marks))\n",
    "print(len(avg))"
   ]
  },
  {
   "cell_type": "markdown",
   "id": "5d93a3e9",
   "metadata": {},
   "source": [
    "b) max() and min()"
   ]
  },
  {
   "cell_type": "code",
   "execution_count": 61,
   "id": "a44c186c",
   "metadata": {},
   "outputs": [
    {
     "name": "stdout",
     "output_type": "stream",
     "text": [
      "Maximum marks obtained :  89\n",
      "Minimum marks optained :  23\n"
     ]
    }
   ],
   "source": [
    "# Using max() and min() we will print maximum and minimum marks\n",
    "print('Maximum marks obtained : ',max(marks))\n",
    "print('Minimum marks optained : ',min(marks))"
   ]
  },
  {
   "cell_type": "markdown",
   "id": "2581540b",
   "metadata": {},
   "source": [
    "c) count()"
   ]
  },
  {
   "cell_type": "code",
   "execution_count": 70,
   "id": "3232e061",
   "metadata": {},
   "outputs": [
    {
     "data": {
      "text/plain": [
       "4"
      ]
     },
     "execution_count": 70,
     "metadata": {},
     "output_type": "execute_result"
    }
   ],
   "source": [
    "# To count no of times a pericular element is occuring\n",
    "avg_4times.count(2)"
   ]
  },
  {
   "cell_type": "markdown",
   "id": "03a5c24f",
   "metadata": {},
   "source": [
    "d) index()"
   ]
  },
  {
   "cell_type": "code",
   "execution_count": 71,
   "id": "942425ae",
   "metadata": {},
   "outputs": [
    {
     "name": "stdout",
     "output_type": "stream",
     "text": [
      "Index of 89 in marks :  5\n"
     ]
    }
   ],
   "source": [
    "# it searches the tuple for a specified values and returns the position of where it was found\n",
    "print('Index of 89 in marks : ',marks.index(89))"
   ]
  },
  {
   "cell_type": "markdown",
   "id": "815ef217",
   "metadata": {},
   "source": [
    "# Dictionary"
   ]
  },
  {
   "cell_type": "markdown",
   "id": "a0545250",
   "metadata": {},
   "source": [
    "1. Creating dictionary in python"
   ]
  },
  {
   "cell_type": "code",
   "execution_count": 74,
   "id": "afa65d04",
   "metadata": {},
   "outputs": [
    {
     "name": "stdout",
     "output_type": "stream",
     "text": [
      "{}\n",
      "{1: 'cse', 2: 'civil', 3: 'ece'}\n",
      "{'Name': 'Abhishek Chauhan', 'Gate socore': 531, 1: [13, 45, 64]}\n"
     ]
    }
   ],
   "source": [
    "# empty dictionary\n",
    "my_dict ={}\n",
    "\n",
    "# dictionary with inter keys\n",
    "my_dict_1 = {1:'cse',2:'civil',3:'ece'}\n",
    "\n",
    "# dictionary with mixed keys\n",
    "my_dict_2 = {'Name':'Abhishek Chauhan','Gate socore':531,1:[13,45,64]}\n",
    "\n",
    "print(my_dict)\n",
    "print(my_dict_1)\n",
    "print(my_dict_2)"
   ]
  },
  {
   "cell_type": "markdown",
   "id": "50c32860",
   "metadata": {},
   "source": [
    "2. Acessing Elements from Dictionary"
   ]
  },
  {
   "cell_type": "code",
   "execution_count": 76,
   "id": "2f381113",
   "metadata": {},
   "outputs": [
    {
     "name": "stdout",
     "output_type": "stream",
     "text": [
      "Abhishek Chauhan\n",
      "{'Name': 'Abhishek Chauhan', 'Gate socore': 531, 1: [13, 45, 64]}\n"
     ]
    }
   ],
   "source": [
    "# Using key to access value \n",
    "print(my_dict_2['Name'])\n",
    "\n",
    "# Printing whole dictionary\n",
    "print(my_dict_2)"
   ]
  },
  {
   "cell_type": "markdown",
   "id": "c9e5ce6f",
   "metadata": {},
   "source": [
    "3. Changing and Adding Dictionary elements"
   ]
  },
  {
   "cell_type": "code",
   "execution_count": 79,
   "id": "2428a075",
   "metadata": {},
   "outputs": [
    {
     "name": "stdout",
     "output_type": "stream",
     "text": [
      "{'Name': 'Alice taylor', 'Gate socore': 883, 1: [13, 45, 64], 'Result': 'Pass'}\n"
     ]
    }
   ],
   "source": [
    "# Changing name to Alice taylor in my_dict2\n",
    "my_dict_2['Name']='Alice taylor'\n",
    "\n",
    "# changing gate score in my_dict2\n",
    "my_dict_2['Gate socore']= 883\n",
    "\n",
    "# adding new key value pair to my_dict2\n",
    "my_dict_2['Result']='Pass'\n",
    "print(my_dict_2)"
   ]
  },
  {
   "cell_type": "markdown",
   "id": "007918b0",
   "metadata": {},
   "source": [
    "4. Removing elements from Dictionary"
   ]
  },
  {
   "cell_type": "code",
   "execution_count": 82,
   "id": "46e271cf",
   "metadata": {},
   "outputs": [
    {
     "name": "stdout",
     "output_type": "stream",
     "text": [
      "{1: 1, 2: 4, 3: 9, 4: 16, 5: 25, 6: 36, 7: 49, 8: 64, 9: 81, 10: 100}\n",
      "25\n",
      "(10, 100)\n",
      "{}\n"
     ]
    }
   ],
   "source": [
    "# creating a new list of square of number in dictionary\n",
    "squares = {1:1,2:4,3:9,4:16,5:25,6:36,7:49,8:64,9:81,10:100}\n",
    "print(squares)\n",
    "\n",
    "# remove a particular item, returns it value using pop \n",
    "print(squares.pop(5))\n",
    "\n",
    "# remove an arbitrary item, return (key,value)\n",
    "print(squares.popitem())\n",
    "\n",
    "# remove all items using clear()\n",
    "squares.clear()\n",
    "print(squares)\n",
    "\n",
    "# Deleting teh dictionary itself using del keyword\n",
    "del squares"
   ]
  },
  {
   "cell_type": "markdown",
   "id": "791df683",
   "metadata": {},
   "source": [
    "5. Dictionary Methods"
   ]
  },
  {
   "cell_type": "markdown",
   "id": "a4e36444",
   "metadata": {},
   "source": [
    "a) len() method"
   ]
  },
  {
   "cell_type": "code",
   "execution_count": 91,
   "id": "05b7ba81",
   "metadata": {},
   "outputs": [
    {
     "name": "stdout",
     "output_type": "stream",
     "text": [
      "10\n"
     ]
    }
   ],
   "source": [
    "# return the length of the dictionary\n",
    "cubes = {2:8,3:27,1:1,5:125,4:64,6:216,9:729,7:249,8:512,10:1000}\n",
    "\n",
    "print(len(cubes))"
   ]
  },
  {
   "cell_type": "markdown",
   "id": "def0f688",
   "metadata": {},
   "source": [
    "b) all()"
   ]
  },
  {
   "cell_type": "code",
   "execution_count": 92,
   "id": "a367ce85",
   "metadata": {},
   "outputs": [
    {
     "data": {
      "text/plain": [
       "True"
      ]
     },
     "execution_count": 92,
     "metadata": {},
     "output_type": "execute_result"
    }
   ],
   "source": [
    "# all return true if all keys of the dictionary are turn (or if the dictionary is empty)\n",
    "all(cubes)"
   ]
  },
  {
   "cell_type": "markdown",
   "id": "8d1918d9",
   "metadata": {},
   "source": [
    "c) any() "
   ]
  },
  {
   "cell_type": "code",
   "execution_count": 93,
   "id": "29d52be4",
   "metadata": {},
   "outputs": [
    {
     "name": "stdout",
     "output_type": "stream",
     "text": [
      "True\n",
      "False\n"
     ]
    }
   ],
   "source": [
    "# return true if any key of the dictionary is true. If the dictionary is empty, return false.\n",
    "print(any(cubes))\n",
    "print(any(my_dict))    # for empty dictionary\n"
   ]
  },
  {
   "cell_type": "markdown",
   "id": "2198989c",
   "metadata": {},
   "source": [
    "d) sorted()"
   ]
  },
  {
   "cell_type": "code",
   "execution_count": 96,
   "id": "604e8a56",
   "metadata": {},
   "outputs": [
    {
     "data": {
      "text/plain": [
       "[1, 2, 3, 4, 5, 6, 7, 8, 9, 10]"
      ]
     },
     "execution_count": 96,
     "metadata": {},
     "output_type": "execute_result"
    }
   ],
   "source": [
    "# It returns a new sorted list of keys in the dictionary\n",
    "\n",
    "sorted(cubes)\n"
   ]
  },
  {
   "cell_type": "code",
   "execution_count": null,
   "id": "de1abd9c",
   "metadata": {},
   "outputs": [],
   "source": []
  },
  {
   "cell_type": "code",
   "execution_count": null,
   "id": "fff91512",
   "metadata": {},
   "outputs": [],
   "source": []
  },
  {
   "cell_type": "markdown",
   "id": "41bb49b0",
   "metadata": {},
   "source": [
    "# Problem :- Write a program to predict google stock price using scikitlearn API (Linear Regression)"
   ]
  },
  {
   "cell_type": "code",
   "execution_count": 2,
   "id": "2f2dae92",
   "metadata": {},
   "outputs": [],
   "source": [
    "import sklearn as sk"
   ]
  },
  {
   "cell_type": "code",
   "execution_count": 3,
   "id": "4a32c624",
   "metadata": {},
   "outputs": [],
   "source": [
    "import numpy as np"
   ]
  },
  {
   "cell_type": "code",
   "execution_count": 4,
   "id": "a997b86d",
   "metadata": {},
   "outputs": [],
   "source": [
    "import pandas as pd\n",
    "from sklearn.model_selection import train_test_split"
   ]
  },
  {
   "cell_type": "code",
   "execution_count": 5,
   "id": "c8f2e282",
   "metadata": {},
   "outputs": [],
   "source": [
    "df_train= pd.read_csv(r'Google_Stock_Price_Train.csv')\n",
    "df_test = pd.read_csv('Google_Stock_Price_Test.csv')"
   ]
  },
  {
   "cell_type": "code",
   "execution_count": 6,
   "id": "371e7227",
   "metadata": {},
   "outputs": [
    {
     "data": {
      "text/html": [
       "<div>\n",
       "<style scoped>\n",
       "    .dataframe tbody tr th:only-of-type {\n",
       "        vertical-align: middle;\n",
       "    }\n",
       "\n",
       "    .dataframe tbody tr th {\n",
       "        vertical-align: top;\n",
       "    }\n",
       "\n",
       "    .dataframe thead th {\n",
       "        text-align: right;\n",
       "    }\n",
       "</style>\n",
       "<table border=\"1\" class=\"dataframe\">\n",
       "  <thead>\n",
       "    <tr style=\"text-align: right;\">\n",
       "      <th></th>\n",
       "      <th>Date</th>\n",
       "      <th>Open</th>\n",
       "      <th>High</th>\n",
       "      <th>Low</th>\n",
       "      <th>Close</th>\n",
       "      <th>Volume</th>\n",
       "    </tr>\n",
       "  </thead>\n",
       "  <tbody>\n",
       "    <tr>\n",
       "      <th>0</th>\n",
       "      <td>01-03-2012</td>\n",
       "      <td>325.25</td>\n",
       "      <td>332.83</td>\n",
       "      <td>324.97</td>\n",
       "      <td>663.59</td>\n",
       "      <td>73,80,500</td>\n",
       "    </tr>\n",
       "    <tr>\n",
       "      <th>1</th>\n",
       "      <td>01-04-2012</td>\n",
       "      <td>331.27</td>\n",
       "      <td>333.87</td>\n",
       "      <td>329.08</td>\n",
       "      <td>666.45</td>\n",
       "      <td>57,49,400</td>\n",
       "    </tr>\n",
       "    <tr>\n",
       "      <th>2</th>\n",
       "      <td>01-05-2012</td>\n",
       "      <td>329.83</td>\n",
       "      <td>330.75</td>\n",
       "      <td>326.89</td>\n",
       "      <td>657.21</td>\n",
       "      <td>65,90,300</td>\n",
       "    </tr>\n",
       "    <tr>\n",
       "      <th>3</th>\n",
       "      <td>01-06-2012</td>\n",
       "      <td>328.34</td>\n",
       "      <td>328.77</td>\n",
       "      <td>323.68</td>\n",
       "      <td>648.24</td>\n",
       "      <td>54,05,900</td>\n",
       "    </tr>\n",
       "    <tr>\n",
       "      <th>4</th>\n",
       "      <td>01-09-2012</td>\n",
       "      <td>322.04</td>\n",
       "      <td>322.29</td>\n",
       "      <td>309.46</td>\n",
       "      <td>620.76</td>\n",
       "      <td>1,16,88,800</td>\n",
       "    </tr>\n",
       "  </tbody>\n",
       "</table>\n",
       "</div>"
      ],
      "text/plain": [
       "         Date    Open    High     Low   Close       Volume\n",
       "0  01-03-2012  325.25  332.83  324.97  663.59    73,80,500\n",
       "1  01-04-2012  331.27  333.87  329.08  666.45    57,49,400\n",
       "2  01-05-2012  329.83  330.75  326.89  657.21    65,90,300\n",
       "3  01-06-2012  328.34  328.77  323.68  648.24    54,05,900\n",
       "4  01-09-2012  322.04  322.29  309.46  620.76  1,16,88,800"
      ]
     },
     "execution_count": 6,
     "metadata": {},
     "output_type": "execute_result"
    }
   ],
   "source": [
    "df_train.head()"
   ]
  },
  {
   "cell_type": "code",
   "execution_count": 7,
   "id": "c2b1ebee",
   "metadata": {},
   "outputs": [
    {
     "data": {
      "text/html": [
       "<div>\n",
       "<style scoped>\n",
       "    .dataframe tbody tr th:only-of-type {\n",
       "        vertical-align: middle;\n",
       "    }\n",
       "\n",
       "    .dataframe tbody tr th {\n",
       "        vertical-align: top;\n",
       "    }\n",
       "\n",
       "    .dataframe thead th {\n",
       "        text-align: right;\n",
       "    }\n",
       "</style>\n",
       "<table border=\"1\" class=\"dataframe\">\n",
       "  <thead>\n",
       "    <tr style=\"text-align: right;\">\n",
       "      <th></th>\n",
       "      <th>Date</th>\n",
       "      <th>Open</th>\n",
       "      <th>High</th>\n",
       "      <th>Low</th>\n",
       "      <th>Close</th>\n",
       "      <th>Volume</th>\n",
       "    </tr>\n",
       "  </thead>\n",
       "  <tbody>\n",
       "    <tr>\n",
       "      <th>0</th>\n",
       "      <td>1/3/2017</td>\n",
       "      <td>778.81</td>\n",
       "      <td>789.63</td>\n",
       "      <td>775.80</td>\n",
       "      <td>786.14</td>\n",
       "      <td>1,657,300</td>\n",
       "    </tr>\n",
       "    <tr>\n",
       "      <th>1</th>\n",
       "      <td>1/4/2017</td>\n",
       "      <td>788.36</td>\n",
       "      <td>791.34</td>\n",
       "      <td>783.16</td>\n",
       "      <td>786.90</td>\n",
       "      <td>1,073,000</td>\n",
       "    </tr>\n",
       "    <tr>\n",
       "      <th>2</th>\n",
       "      <td>1/5/2017</td>\n",
       "      <td>786.08</td>\n",
       "      <td>794.48</td>\n",
       "      <td>785.02</td>\n",
       "      <td>794.02</td>\n",
       "      <td>1,335,200</td>\n",
       "    </tr>\n",
       "    <tr>\n",
       "      <th>3</th>\n",
       "      <td>1/6/2017</td>\n",
       "      <td>795.26</td>\n",
       "      <td>807.90</td>\n",
       "      <td>792.20</td>\n",
       "      <td>806.15</td>\n",
       "      <td>1,640,200</td>\n",
       "    </tr>\n",
       "    <tr>\n",
       "      <th>4</th>\n",
       "      <td>1/9/2017</td>\n",
       "      <td>806.40</td>\n",
       "      <td>809.97</td>\n",
       "      <td>802.83</td>\n",
       "      <td>806.65</td>\n",
       "      <td>1,272,400</td>\n",
       "    </tr>\n",
       "  </tbody>\n",
       "</table>\n",
       "</div>"
      ],
      "text/plain": [
       "       Date    Open    High     Low   Close     Volume\n",
       "0  1/3/2017  778.81  789.63  775.80  786.14  1,657,300\n",
       "1  1/4/2017  788.36  791.34  783.16  786.90  1,073,000\n",
       "2  1/5/2017  786.08  794.48  785.02  794.02  1,335,200\n",
       "3  1/6/2017  795.26  807.90  792.20  806.15  1,640,200\n",
       "4  1/9/2017  806.40  809.97  802.83  806.65  1,272,400"
      ]
     },
     "execution_count": 7,
     "metadata": {},
     "output_type": "execute_result"
    }
   ],
   "source": [
    "df_test.head()"
   ]
  },
  {
   "cell_type": "code",
   "execution_count": 8,
   "id": "282d252f",
   "metadata": {},
   "outputs": [
    {
     "name": "stdout",
     "output_type": "stream",
     "text": [
      "<class 'pandas.core.frame.DataFrame'>\n",
      "RangeIndex: 1258 entries, 0 to 1257\n",
      "Data columns (total 6 columns):\n",
      " #   Column  Non-Null Count  Dtype  \n",
      "---  ------  --------------  -----  \n",
      " 0   Date    1258 non-null   object \n",
      " 1   Open    1258 non-null   float64\n",
      " 2   High    1258 non-null   float64\n",
      " 3   Low     1258 non-null   float64\n",
      " 4   Close   1258 non-null   object \n",
      " 5   Volume  1258 non-null   object \n",
      "dtypes: float64(3), object(3)\n",
      "memory usage: 59.1+ KB\n"
     ]
    }
   ],
   "source": [
    "df_train.info()"
   ]
  },
  {
   "cell_type": "code",
   "execution_count": 9,
   "id": "00e718dd",
   "metadata": {
    "scrolled": true
   },
   "outputs": [],
   "source": [
    "\n",
    "df_train['Date']= pd.to_datetime(df_train['Date'])\n",
    "df_test['Date']= pd.to_datetime(df_test['Date'])\n",
    "df_train['Close'] = df_train['Close'].str.replace(',','').astype(float)"
   ]
  },
  {
   "cell_type": "code",
   "execution_count": 10,
   "id": "7bc57f49",
   "metadata": {},
   "outputs": [
    {
     "data": {
      "text/plain": [
       "Date      datetime64[ns]\n",
       "Open             float64\n",
       "High             float64\n",
       "Low              float64\n",
       "Close            float64\n",
       "Volume            object\n",
       "dtype: object"
      ]
     },
     "execution_count": 10,
     "metadata": {},
     "output_type": "execute_result"
    }
   ],
   "source": [
    "df_train.dtypes"
   ]
  },
  {
   "cell_type": "code",
   "execution_count": 11,
   "id": "7819ccbe",
   "metadata": {},
   "outputs": [],
   "source": [
    "df_train['Volume'] = df_train['Volume'].str.replace(',','').astype(float)\n",
    "df_test['Volume'] = df_test['Volume'].str.replace(',','').astype(float)"
   ]
  },
  {
   "cell_type": "code",
   "execution_count": null,
   "id": "f81e63e8",
   "metadata": {},
   "outputs": [],
   "source": []
  },
  {
   "cell_type": "code",
   "execution_count": 12,
   "id": "07197217",
   "metadata": {},
   "outputs": [
    {
     "data": {
      "text/html": [
       "<div>\n",
       "<style scoped>\n",
       "    .dataframe tbody tr th:only-of-type {\n",
       "        vertical-align: middle;\n",
       "    }\n",
       "\n",
       "    .dataframe tbody tr th {\n",
       "        vertical-align: top;\n",
       "    }\n",
       "\n",
       "    .dataframe thead th {\n",
       "        text-align: right;\n",
       "    }\n",
       "</style>\n",
       "<table border=\"1\" class=\"dataframe\">\n",
       "  <thead>\n",
       "    <tr style=\"text-align: right;\">\n",
       "      <th></th>\n",
       "      <th>Date</th>\n",
       "      <th>Open</th>\n",
       "      <th>High</th>\n",
       "      <th>Low</th>\n",
       "      <th>Close</th>\n",
       "      <th>Volume</th>\n",
       "    </tr>\n",
       "  </thead>\n",
       "  <tbody>\n",
       "    <tr>\n",
       "      <th>0</th>\n",
       "      <td>2017-01-03</td>\n",
       "      <td>778.81</td>\n",
       "      <td>789.63</td>\n",
       "      <td>775.80</td>\n",
       "      <td>786.14</td>\n",
       "      <td>1657300.0</td>\n",
       "    </tr>\n",
       "    <tr>\n",
       "      <th>1</th>\n",
       "      <td>2017-01-04</td>\n",
       "      <td>788.36</td>\n",
       "      <td>791.34</td>\n",
       "      <td>783.16</td>\n",
       "      <td>786.90</td>\n",
       "      <td>1073000.0</td>\n",
       "    </tr>\n",
       "    <tr>\n",
       "      <th>2</th>\n",
       "      <td>2017-01-05</td>\n",
       "      <td>786.08</td>\n",
       "      <td>794.48</td>\n",
       "      <td>785.02</td>\n",
       "      <td>794.02</td>\n",
       "      <td>1335200.0</td>\n",
       "    </tr>\n",
       "    <tr>\n",
       "      <th>3</th>\n",
       "      <td>2017-01-06</td>\n",
       "      <td>795.26</td>\n",
       "      <td>807.90</td>\n",
       "      <td>792.20</td>\n",
       "      <td>806.15</td>\n",
       "      <td>1640200.0</td>\n",
       "    </tr>\n",
       "    <tr>\n",
       "      <th>4</th>\n",
       "      <td>2017-01-09</td>\n",
       "      <td>806.40</td>\n",
       "      <td>809.97</td>\n",
       "      <td>802.83</td>\n",
       "      <td>806.65</td>\n",
       "      <td>1272400.0</td>\n",
       "    </tr>\n",
       "    <tr>\n",
       "      <th>5</th>\n",
       "      <td>2017-01-10</td>\n",
       "      <td>807.86</td>\n",
       "      <td>809.13</td>\n",
       "      <td>803.51</td>\n",
       "      <td>804.79</td>\n",
       "      <td>1176800.0</td>\n",
       "    </tr>\n",
       "    <tr>\n",
       "      <th>6</th>\n",
       "      <td>2017-01-11</td>\n",
       "      <td>805.00</td>\n",
       "      <td>808.15</td>\n",
       "      <td>801.37</td>\n",
       "      <td>807.91</td>\n",
       "      <td>1065900.0</td>\n",
       "    </tr>\n",
       "    <tr>\n",
       "      <th>7</th>\n",
       "      <td>2017-01-12</td>\n",
       "      <td>807.14</td>\n",
       "      <td>807.39</td>\n",
       "      <td>799.17</td>\n",
       "      <td>806.36</td>\n",
       "      <td>1353100.0</td>\n",
       "    </tr>\n",
       "    <tr>\n",
       "      <th>8</th>\n",
       "      <td>2017-01-13</td>\n",
       "      <td>807.48</td>\n",
       "      <td>811.22</td>\n",
       "      <td>806.69</td>\n",
       "      <td>807.88</td>\n",
       "      <td>1099200.0</td>\n",
       "    </tr>\n",
       "    <tr>\n",
       "      <th>9</th>\n",
       "      <td>2017-01-17</td>\n",
       "      <td>807.08</td>\n",
       "      <td>807.14</td>\n",
       "      <td>800.37</td>\n",
       "      <td>804.61</td>\n",
       "      <td>1362100.0</td>\n",
       "    </tr>\n",
       "    <tr>\n",
       "      <th>10</th>\n",
       "      <td>2017-01-18</td>\n",
       "      <td>805.81</td>\n",
       "      <td>806.21</td>\n",
       "      <td>800.99</td>\n",
       "      <td>806.07</td>\n",
       "      <td>1294400.0</td>\n",
       "    </tr>\n",
       "    <tr>\n",
       "      <th>11</th>\n",
       "      <td>2017-01-19</td>\n",
       "      <td>805.12</td>\n",
       "      <td>809.48</td>\n",
       "      <td>801.80</td>\n",
       "      <td>802.17</td>\n",
       "      <td>919300.0</td>\n",
       "    </tr>\n",
       "    <tr>\n",
       "      <th>12</th>\n",
       "      <td>2017-01-20</td>\n",
       "      <td>806.91</td>\n",
       "      <td>806.91</td>\n",
       "      <td>801.69</td>\n",
       "      <td>805.02</td>\n",
       "      <td>1670000.0</td>\n",
       "    </tr>\n",
       "    <tr>\n",
       "      <th>13</th>\n",
       "      <td>2017-01-23</td>\n",
       "      <td>807.25</td>\n",
       "      <td>820.87</td>\n",
       "      <td>803.74</td>\n",
       "      <td>819.31</td>\n",
       "      <td>1963600.0</td>\n",
       "    </tr>\n",
       "    <tr>\n",
       "      <th>14</th>\n",
       "      <td>2017-01-24</td>\n",
       "      <td>822.30</td>\n",
       "      <td>825.90</td>\n",
       "      <td>817.82</td>\n",
       "      <td>823.87</td>\n",
       "      <td>1474000.0</td>\n",
       "    </tr>\n",
       "    <tr>\n",
       "      <th>15</th>\n",
       "      <td>2017-01-25</td>\n",
       "      <td>829.62</td>\n",
       "      <td>835.77</td>\n",
       "      <td>825.06</td>\n",
       "      <td>835.67</td>\n",
       "      <td>1494500.0</td>\n",
       "    </tr>\n",
       "    <tr>\n",
       "      <th>16</th>\n",
       "      <td>2017-01-26</td>\n",
       "      <td>837.81</td>\n",
       "      <td>838.00</td>\n",
       "      <td>827.01</td>\n",
       "      <td>832.15</td>\n",
       "      <td>2973900.0</td>\n",
       "    </tr>\n",
       "    <tr>\n",
       "      <th>17</th>\n",
       "      <td>2017-01-27</td>\n",
       "      <td>834.71</td>\n",
       "      <td>841.95</td>\n",
       "      <td>820.44</td>\n",
       "      <td>823.31</td>\n",
       "      <td>2965800.0</td>\n",
       "    </tr>\n",
       "    <tr>\n",
       "      <th>18</th>\n",
       "      <td>2017-01-30</td>\n",
       "      <td>814.66</td>\n",
       "      <td>815.84</td>\n",
       "      <td>799.80</td>\n",
       "      <td>802.32</td>\n",
       "      <td>3246600.0</td>\n",
       "    </tr>\n",
       "    <tr>\n",
       "      <th>19</th>\n",
       "      <td>2017-01-31</td>\n",
       "      <td>796.86</td>\n",
       "      <td>801.25</td>\n",
       "      <td>790.52</td>\n",
       "      <td>796.79</td>\n",
       "      <td>2160600.0</td>\n",
       "    </tr>\n",
       "  </tbody>\n",
       "</table>\n",
       "</div>"
      ],
      "text/plain": [
       "         Date    Open    High     Low   Close     Volume\n",
       "0  2017-01-03  778.81  789.63  775.80  786.14  1657300.0\n",
       "1  2017-01-04  788.36  791.34  783.16  786.90  1073000.0\n",
       "2  2017-01-05  786.08  794.48  785.02  794.02  1335200.0\n",
       "3  2017-01-06  795.26  807.90  792.20  806.15  1640200.0\n",
       "4  2017-01-09  806.40  809.97  802.83  806.65  1272400.0\n",
       "5  2017-01-10  807.86  809.13  803.51  804.79  1176800.0\n",
       "6  2017-01-11  805.00  808.15  801.37  807.91  1065900.0\n",
       "7  2017-01-12  807.14  807.39  799.17  806.36  1353100.0\n",
       "8  2017-01-13  807.48  811.22  806.69  807.88  1099200.0\n",
       "9  2017-01-17  807.08  807.14  800.37  804.61  1362100.0\n",
       "10 2017-01-18  805.81  806.21  800.99  806.07  1294400.0\n",
       "11 2017-01-19  805.12  809.48  801.80  802.17   919300.0\n",
       "12 2017-01-20  806.91  806.91  801.69  805.02  1670000.0\n",
       "13 2017-01-23  807.25  820.87  803.74  819.31  1963600.0\n",
       "14 2017-01-24  822.30  825.90  817.82  823.87  1474000.0\n",
       "15 2017-01-25  829.62  835.77  825.06  835.67  1494500.0\n",
       "16 2017-01-26  837.81  838.00  827.01  832.15  2973900.0\n",
       "17 2017-01-27  834.71  841.95  820.44  823.31  2965800.0\n",
       "18 2017-01-30  814.66  815.84  799.80  802.32  3246600.0\n",
       "19 2017-01-31  796.86  801.25  790.52  796.79  2160600.0"
      ]
     },
     "execution_count": 12,
     "metadata": {},
     "output_type": "execute_result"
    }
   ],
   "source": [
    "df_test"
   ]
  },
  {
   "cell_type": "code",
   "execution_count": 13,
   "id": "eddf64b6",
   "metadata": {},
   "outputs": [
    {
     "name": "stdout",
     "output_type": "stream",
     "text": [
      "Stock prices are between 2012-01-03 00:00:00 2016-12-30 00:00:00\n",
      "Total no of days 1823 days 00:00:00\n"
     ]
    }
   ],
   "source": [
    "print(f'Stock prices are between {df_train.Date.min()} {df_train.Date.max()}')\n",
    "print(f'Total no of days {df_train.Date.max()-df_train.Date.min()}')"
   ]
  },
  {
   "cell_type": "code",
   "execution_count": 14,
   "id": "16472e99",
   "metadata": {},
   "outputs": [
    {
     "name": "stdout",
     "output_type": "stream",
     "text": [
      "Stock prices are between 2017-01-03 00:00:00 2017-01-31 00:00:00\n",
      "Total no of days 28 days 00:00:00\n"
     ]
    }
   ],
   "source": [
    "print(f'Stock prices are between {df_test.Date.min()} {df_test.Date.max()}')\n",
    "print(f'Total no of days {df_test.Date.max()-df_test.Date.min()}')"
   ]
  },
  {
   "cell_type": "code",
   "execution_count": 14,
   "id": "c3ea80e3",
   "metadata": {
    "scrolled": true
   },
   "outputs": [
    {
     "data": {
      "text/html": [
       "<div>\n",
       "<style scoped>\n",
       "    .dataframe tbody tr th:only-of-type {\n",
       "        vertical-align: middle;\n",
       "    }\n",
       "\n",
       "    .dataframe tbody tr th {\n",
       "        vertical-align: top;\n",
       "    }\n",
       "\n",
       "    .dataframe thead th {\n",
       "        text-align: right;\n",
       "    }\n",
       "</style>\n",
       "<table border=\"1\" class=\"dataframe\">\n",
       "  <thead>\n",
       "    <tr style=\"text-align: right;\">\n",
       "      <th></th>\n",
       "      <th>Open</th>\n",
       "      <th>High</th>\n",
       "      <th>Low</th>\n",
       "      <th>Close</th>\n",
       "      <th>Volume</th>\n",
       "    </tr>\n",
       "  </thead>\n",
       "  <tbody>\n",
       "    <tr>\n",
       "      <th>count</th>\n",
       "      <td>1258.000000</td>\n",
       "      <td>1258.000000</td>\n",
       "      <td>1258.000000</td>\n",
       "      <td>1258.000000</td>\n",
       "      <td>1.258000e+03</td>\n",
       "    </tr>\n",
       "    <tr>\n",
       "      <th>mean</th>\n",
       "      <td>533.709833</td>\n",
       "      <td>537.880223</td>\n",
       "      <td>529.007409</td>\n",
       "      <td>712.669666</td>\n",
       "      <td>3.158107e+06</td>\n",
       "    </tr>\n",
       "    <tr>\n",
       "      <th>std</th>\n",
       "      <td>151.904442</td>\n",
       "      <td>153.008811</td>\n",
       "      <td>150.552807</td>\n",
       "      <td>164.752591</td>\n",
       "      <td>2.273726e+06</td>\n",
       "    </tr>\n",
       "    <tr>\n",
       "      <th>min</th>\n",
       "      <td>279.120000</td>\n",
       "      <td>281.210000</td>\n",
       "      <td>277.220000</td>\n",
       "      <td>491.200000</td>\n",
       "      <td>7.900000e+03</td>\n",
       "    </tr>\n",
       "    <tr>\n",
       "      <th>25%</th>\n",
       "      <td>404.115000</td>\n",
       "      <td>406.765000</td>\n",
       "      <td>401.765000</td>\n",
       "      <td>576.740000</td>\n",
       "      <td>1.621700e+06</td>\n",
       "    </tr>\n",
       "    <tr>\n",
       "      <th>50%</th>\n",
       "      <td>537.470000</td>\n",
       "      <td>540.750000</td>\n",
       "      <td>532.990000</td>\n",
       "      <td>695.675000</td>\n",
       "      <td>2.566150e+06</td>\n",
       "    </tr>\n",
       "    <tr>\n",
       "      <th>75%</th>\n",
       "      <td>654.922500</td>\n",
       "      <td>662.587500</td>\n",
       "      <td>644.800000</td>\n",
       "      <td>782.105000</td>\n",
       "      <td>4.122500e+06</td>\n",
       "    </tr>\n",
       "    <tr>\n",
       "      <th>max</th>\n",
       "      <td>816.680000</td>\n",
       "      <td>816.680000</td>\n",
       "      <td>805.140000</td>\n",
       "      <td>1216.830000</td>\n",
       "      <td>2.497790e+07</td>\n",
       "    </tr>\n",
       "  </tbody>\n",
       "</table>\n",
       "</div>"
      ],
      "text/plain": [
       "              Open         High          Low        Close        Volume\n",
       "count  1258.000000  1258.000000  1258.000000  1258.000000  1.258000e+03\n",
       "mean    533.709833   537.880223   529.007409   712.669666  3.158107e+06\n",
       "std     151.904442   153.008811   150.552807   164.752591  2.273726e+06\n",
       "min     279.120000   281.210000   277.220000   491.200000  7.900000e+03\n",
       "25%     404.115000   406.765000   401.765000   576.740000  1.621700e+06\n",
       "50%     537.470000   540.750000   532.990000   695.675000  2.566150e+06\n",
       "75%     654.922500   662.587500   644.800000   782.105000  4.122500e+06\n",
       "max     816.680000   816.680000   805.140000  1216.830000  2.497790e+07"
      ]
     },
     "execution_count": 14,
     "metadata": {},
     "output_type": "execute_result"
    }
   ],
   "source": [
    "df_train.describe()"
   ]
  },
  {
   "cell_type": "code",
   "execution_count": 15,
   "id": "5004d01b",
   "metadata": {},
   "outputs": [],
   "source": [
    "from matplotlib import pyplot as plt\n",
    "from matplotlib import style"
   ]
  },
  {
   "cell_type": "code",
   "execution_count": 16,
   "id": "a995937d",
   "metadata": {},
   "outputs": [
    {
     "data": {
      "image/png": "[encoded data removed]",
      "text/plain": [
       "<Figure size 1440x432 with 1 Axes>"
      ]
     },
     "metadata": {},
     "output_type": "display_data"
    }
   ],
   "source": [
    "style.use('ggplot')\n",
    "plt.figure(figsize=(20,6))\n",
    "\n",
    "plt.plot(df_train['Date'],df_train['Close'])\n",
    "plt.xlabel('Date',size=15)\n",
    "plt.ylabel('Closing Price',size=15)\n",
    "plt.title('Google Stock Price (Closing prive vs Date)',size=20)\n",
    "plt.show()"
   ]
  },
  {
   "cell_type": "code",
   "execution_count": 17,
   "id": "3c26bc74",
   "metadata": {},
   "outputs": [],
   "source": [
    "# Building the regression model\n",
    "from sklearn.model_selection import train_test_split\n",
    "\n",
    "# For preprocessing\n",
    "from sklearn.preprocessing import MinMaxScaler\n",
    "from sklearn.preprocessing import StandardScaler\n"
   ]
  },
  {
   "cell_type": "code",
   "execution_count": 159,
   "id": "3c84db34",
   "metadata": {},
   "outputs": [],
   "source": [
    "# Split the data into train and test sets\n",
    "#x= np.array(df_train.index).reshape(-1,1)\n",
    "x= df_train.drop('Close',axis=1)\n",
    "x= x.drop('Date',axis=1)\n",
    "y = df_train['Close']\n",
    "x_train, x_test, y_train,y_test = train_test_split(x,y,test_size= 0.15,random_state=786)"
   ]
  },
  {
   "cell_type": "code",
   "execution_count": 160,
   "id": "05381e5b",
   "metadata": {},
   "outputs": [
    {
     "data": {
      "text/html": [
       "<div>\n",
       "<style scoped>\n",
       "    .dataframe tbody tr th:only-of-type {\n",
       "        vertical-align: middle;\n",
       "    }\n",
       "\n",
       "    .dataframe tbody tr th {\n",
       "        vertical-align: top;\n",
       "    }\n",
       "\n",
       "    .dataframe thead th {\n",
       "        text-align: right;\n",
       "    }\n",
       "</style>\n",
       "<table border=\"1\" class=\"dataframe\">\n",
       "  <thead>\n",
       "    <tr style=\"text-align: right;\">\n",
       "      <th></th>\n",
       "      <th>Open</th>\n",
       "      <th>High</th>\n",
       "      <th>Low</th>\n",
       "      <th>Volume</th>\n",
       "    </tr>\n",
       "  </thead>\n",
       "  <tbody>\n",
       "    <tr>\n",
       "      <th>47</th>\n",
       "      <td>298.88</td>\n",
       "      <td>302.37</td>\n",
       "      <td>298.51</td>\n",
       "      <td>3350400.0</td>\n",
       "    </tr>\n",
       "    <tr>\n",
       "      <th>613</th>\n",
       "      <td>555.77</td>\n",
       "      <td>556.46</td>\n",
       "      <td>546.96</td>\n",
       "      <td>1458400.0</td>\n",
       "    </tr>\n",
       "    <tr>\n",
       "      <th>911</th>\n",
       "      <td>661.90</td>\n",
       "      <td>664.00</td>\n",
       "      <td>653.46</td>\n",
       "      <td>1456100.0</td>\n",
       "    </tr>\n",
       "    <tr>\n",
       "      <th>390</th>\n",
       "      <td>451.94</td>\n",
       "      <td>453.45</td>\n",
       "      <td>448.67</td>\n",
       "      <td>4172500.0</td>\n",
       "    </tr>\n",
       "    <tr>\n",
       "      <th>857</th>\n",
       "      <td>532.93</td>\n",
       "      <td>543.00</td>\n",
       "      <td>531.33</td>\n",
       "      <td>1939000.0</td>\n",
       "    </tr>\n",
       "    <tr>\n",
       "      <th>...</th>\n",
       "      <td>...</td>\n",
       "      <td>...</td>\n",
       "      <td>...</td>\n",
       "      <td>...</td>\n",
       "    </tr>\n",
       "    <tr>\n",
       "      <th>402</th>\n",
       "      <td>443.62</td>\n",
       "      <td>446.09</td>\n",
       "      <td>443.34</td>\n",
       "      <td>2657200.0</td>\n",
       "    </tr>\n",
       "    <tr>\n",
       "      <th>286</th>\n",
       "      <td>399.65</td>\n",
       "      <td>402.70</td>\n",
       "      <td>393.77</td>\n",
       "      <td>4625000.0</td>\n",
       "    </tr>\n",
       "    <tr>\n",
       "      <th>599</th>\n",
       "      <td>539.65</td>\n",
       "      <td>546.10</td>\n",
       "      <td>539.30</td>\n",
       "      <td>1615800.0</td>\n",
       "    </tr>\n",
       "    <tr>\n",
       "      <th>202</th>\n",
       "      <td>351.47</td>\n",
       "      <td>352.03</td>\n",
       "      <td>334.75</td>\n",
       "      <td>23050400.0</td>\n",
       "    </tr>\n",
       "    <tr>\n",
       "      <th>798</th>\n",
       "      <td>565.31</td>\n",
       "      <td>568.71</td>\n",
       "      <td>561.99</td>\n",
       "      <td>1062100.0</td>\n",
       "    </tr>\n",
       "  </tbody>\n",
       "</table>\n",
       "<p>1069 rows × 4 columns</p>\n",
       "</div>"
      ],
      "text/plain": [
       "       Open    High     Low      Volume\n",
       "47   298.88  302.37  298.51   3350400.0\n",
       "613  555.77  556.46  546.96   1458400.0\n",
       "911  661.90  664.00  653.46   1456100.0\n",
       "390  451.94  453.45  448.67   4172500.0\n",
       "857  532.93  543.00  531.33   1939000.0\n",
       "..      ...     ...     ...         ...\n",
       "402  443.62  446.09  443.34   2657200.0\n",
       "286  399.65  402.70  393.77   4625000.0\n",
       "599  539.65  546.10  539.30   1615800.0\n",
       "202  351.47  352.03  334.75  23050400.0\n",
       "798  565.31  568.71  561.99   1062100.0\n",
       "\n",
       "[1069 rows x 4 columns]"
      ]
     },
     "execution_count": 160,
     "metadata": {},
     "output_type": "execute_result"
    }
   ],
   "source": [
    "x_train"
   ]
  },
  {
   "cell_type": "code",
   "execution_count": 161,
   "id": "816efda2",
   "metadata": {},
   "outputs": [],
   "source": [
    "from sklearn.linear_model import LinearRegression"
   ]
  },
  {
   "cell_type": "code",
   "execution_count": 162,
   "id": "c1ed9749",
   "metadata": {},
   "outputs": [
    {
     "data": {
      "text/plain": [
       "LinearRegression()"
      ]
     },
     "execution_count": 162,
     "metadata": {},
     "output_type": "execute_result"
    }
   ],
   "source": [
    "# Creating a Linear model\n",
    "model = LinearRegression()\n",
    "model.fit(x_train,y_train)"
   ]
  },
  {
   "cell_type": "code",
   "execution_count": 163,
   "id": "610ac5c4",
   "metadata": {},
   "outputs": [],
   "source": [
    " coef = model.coef_"
   ]
  },
  {
   "cell_type": "code",
   "execution_count": 164,
   "id": "61b16a94",
   "metadata": {},
   "outputs": [
    {
     "name": "stdout",
     "output_type": "stream",
     "text": [
      "[ 7.14729078e-01 -1.08176602e+01  1.07042589e+01  3.57153166e-05]\n"
     ]
    }
   ],
   "source": [
    "# Printing Coefficient Value\n",
    "print(coef)"
   ]
  },
  {
   "cell_type": "code",
   "execution_count": 165,
   "id": "b64e68d1",
   "metadata": {},
   "outputs": [],
   "source": [
    "inter =model.intercept_"
   ]
  },
  {
   "cell_type": "code",
   "execution_count": 166,
   "id": "535546c7",
   "metadata": {},
   "outputs": [
    {
     "name": "stdout",
     "output_type": "stream",
     "text": [
      "371.27115738428887\n"
     ]
    }
   ],
   "source": [
    "# Printing intercept value\n",
    "print(inter)"
   ]
  },
  {
   "cell_type": "code",
   "execution_count": 167,
   "id": "61e3de96",
   "metadata": {},
   "outputs": [
    {
     "name": "stdout",
     "output_type": "stream",
     "text": [
      "1069\n",
      "(1069, 4)\n"
     ]
    }
   ],
   "source": [
    "print(len(x_train))\n",
    "print(x_train.shape)"
   ]
  },
  {
   "cell_type": "code",
   "execution_count": 168,
   "id": "4783a869",
   "metadata": {},
   "outputs": [
    {
     "name": "stdout",
     "output_type": "stream",
     "text": [
      "1069\n",
      "(1069,)\n"
     ]
    }
   ],
   "source": [
    "print(len(y_train))\n",
    "print(y_train.shape)"
   ]
  },
  {
   "cell_type": "code",
   "execution_count": 169,
   "id": "efa84030",
   "metadata": {
    "scrolled": true
   },
   "outputs": [
    {
     "name": "stdout",
     "output_type": "stream",
     "text": [
      "189\n",
      "(189, 4)\n"
     ]
    }
   ],
   "source": [
    "print(len(x_test))\n",
    "print(x_test.shape)"
   ]
  },
  {
   "cell_type": "code",
   "execution_count": 170,
   "id": "d654b12e",
   "metadata": {},
   "outputs": [
    {
     "name": "stdout",
     "output_type": "stream",
     "text": [
      "189\n",
      "(189,)\n"
     ]
    }
   ],
   "source": [
    "print(len(y_test))\n",
    "print(y_test.shape)"
   ]
  },
  {
   "cell_type": "code",
   "execution_count": 171,
   "id": "849527a5",
   "metadata": {},
   "outputs": [],
   "source": [
    "y_predict = model.predict(x_test)"
   ]
  },
  {
   "cell_type": "code",
   "execution_count": 172,
   "id": "36fbc400",
   "metadata": {},
   "outputs": [],
   "source": [
    "data_to_plot=pd.DataFrame({'Actual Value ': y_test,'Predicted Value':y_predict})"
   ]
  },
  {
   "cell_type": "code",
   "execution_count": 173,
   "id": "78fb64ab",
   "metadata": {},
   "outputs": [
    {
     "data": {
      "text/html": [
       "<div>\n",
       "<style scoped>\n",
       "    .dataframe tbody tr th:only-of-type {\n",
       "        vertical-align: middle;\n",
       "    }\n",
       "\n",
       "    .dataframe tbody tr th {\n",
       "        vertical-align: top;\n",
       "    }\n",
       "\n",
       "    .dataframe thead th {\n",
       "        text-align: right;\n",
       "    }\n",
       "</style>\n",
       "<table border=\"1\" class=\"dataframe\">\n",
       "  <thead>\n",
       "    <tr style=\"text-align: right;\">\n",
       "      <th></th>\n",
       "      <th>Actual Value</th>\n",
       "      <th>Predicted Value</th>\n",
       "    </tr>\n",
       "  </thead>\n",
       "  <tbody>\n",
       "    <tr>\n",
       "      <th>281</th>\n",
       "      <td>790.72</td>\n",
       "      <td>769.549637</td>\n",
       "    </tr>\n",
       "    <tr>\n",
       "      <th>1208</th>\n",
       "      <td>796.97</td>\n",
       "      <td>832.019634</td>\n",
       "    </tr>\n",
       "    <tr>\n",
       "      <th>1051</th>\n",
       "      <td>705.24</td>\n",
       "      <td>716.206525</td>\n",
       "    </tr>\n",
       "    <tr>\n",
       "      <th>1154</th>\n",
       "      <td>771.61</td>\n",
       "      <td>819.626389</td>\n",
       "    </tr>\n",
       "    <tr>\n",
       "      <th>614</th>\n",
       "      <td>550.25</td>\n",
       "      <td>674.105818</td>\n",
       "    </tr>\n",
       "    <tr>\n",
       "      <th>...</th>\n",
       "      <td>...</td>\n",
       "      <td>...</td>\n",
       "    </tr>\n",
       "    <tr>\n",
       "      <th>112</th>\n",
       "      <td>559.55</td>\n",
       "      <td>635.025992</td>\n",
       "    </tr>\n",
       "    <tr>\n",
       "      <th>709</th>\n",
       "      <td>547.40</td>\n",
       "      <td>663.040491</td>\n",
       "    </tr>\n",
       "    <tr>\n",
       "      <th>359</th>\n",
       "      <td>887.78</td>\n",
       "      <td>744.371893</td>\n",
       "    </tr>\n",
       "    <tr>\n",
       "      <th>876</th>\n",
       "      <td>521.52</td>\n",
       "      <td>669.391780</td>\n",
       "    </tr>\n",
       "    <tr>\n",
       "      <th>457</th>\n",
       "      <td>1012.22</td>\n",
       "      <td>702.309349</td>\n",
       "    </tr>\n",
       "  </tbody>\n",
       "</table>\n",
       "<p>189 rows × 2 columns</p>\n",
       "</div>"
      ],
      "text/plain": [
       "      Actual Value   Predicted Value\n",
       "281          790.72       769.549637\n",
       "1208         796.97       832.019634\n",
       "1051         705.24       716.206525\n",
       "1154         771.61       819.626389\n",
       "614          550.25       674.105818\n",
       "...             ...              ...\n",
       "112          559.55       635.025992\n",
       "709          547.40       663.040491\n",
       "359          887.78       744.371893\n",
       "876          521.52       669.391780\n",
       "457         1012.22       702.309349\n",
       "\n",
       "[189 rows x 2 columns]"
      ]
     },
     "execution_count": 173,
     "metadata": {},
     "output_type": "execute_result"
    }
   ],
   "source": [
    "data_to_plot"
   ]
  },
  {
   "cell_type": "code",
   "execution_count": 174,
   "id": "668d6d51",
   "metadata": {},
   "outputs": [
    {
     "data": {
      "text/html": [
       "<div>\n",
       "<style scoped>\n",
       "    .dataframe tbody tr th:only-of-type {\n",
       "        vertical-align: middle;\n",
       "    }\n",
       "\n",
       "    .dataframe tbody tr th {\n",
       "        vertical-align: top;\n",
       "    }\n",
       "\n",
       "    .dataframe thead th {\n",
       "        text-align: right;\n",
       "    }\n",
       "</style>\n",
       "<table border=\"1\" class=\"dataframe\">\n",
       "  <thead>\n",
       "    <tr style=\"text-align: right;\">\n",
       "      <th></th>\n",
       "      <th>Date</th>\n",
       "      <th>Open</th>\n",
       "      <th>High</th>\n",
       "      <th>Low</th>\n",
       "      <th>Close</th>\n",
       "      <th>Volume</th>\n",
       "    </tr>\n",
       "  </thead>\n",
       "  <tbody>\n",
       "    <tr>\n",
       "      <th>0</th>\n",
       "      <td>2017-01-03</td>\n",
       "      <td>778.81</td>\n",
       "      <td>789.63</td>\n",
       "      <td>775.80</td>\n",
       "      <td>786.14</td>\n",
       "      <td>1657300.0</td>\n",
       "    </tr>\n",
       "    <tr>\n",
       "      <th>1</th>\n",
       "      <td>2017-01-04</td>\n",
       "      <td>788.36</td>\n",
       "      <td>791.34</td>\n",
       "      <td>783.16</td>\n",
       "      <td>786.90</td>\n",
       "      <td>1073000.0</td>\n",
       "    </tr>\n",
       "    <tr>\n",
       "      <th>2</th>\n",
       "      <td>2017-01-05</td>\n",
       "      <td>786.08</td>\n",
       "      <td>794.48</td>\n",
       "      <td>785.02</td>\n",
       "      <td>794.02</td>\n",
       "      <td>1335200.0</td>\n",
       "    </tr>\n",
       "    <tr>\n",
       "      <th>3</th>\n",
       "      <td>2017-01-06</td>\n",
       "      <td>795.26</td>\n",
       "      <td>807.90</td>\n",
       "      <td>792.20</td>\n",
       "      <td>806.15</td>\n",
       "      <td>1640200.0</td>\n",
       "    </tr>\n",
       "    <tr>\n",
       "      <th>4</th>\n",
       "      <td>2017-01-09</td>\n",
       "      <td>806.40</td>\n",
       "      <td>809.97</td>\n",
       "      <td>802.83</td>\n",
       "      <td>806.65</td>\n",
       "      <td>1272400.0</td>\n",
       "    </tr>\n",
       "    <tr>\n",
       "      <th>5</th>\n",
       "      <td>2017-01-10</td>\n",
       "      <td>807.86</td>\n",
       "      <td>809.13</td>\n",
       "      <td>803.51</td>\n",
       "      <td>804.79</td>\n",
       "      <td>1176800.0</td>\n",
       "    </tr>\n",
       "    <tr>\n",
       "      <th>6</th>\n",
       "      <td>2017-01-11</td>\n",
       "      <td>805.00</td>\n",
       "      <td>808.15</td>\n",
       "      <td>801.37</td>\n",
       "      <td>807.91</td>\n",
       "      <td>1065900.0</td>\n",
       "    </tr>\n",
       "    <tr>\n",
       "      <th>7</th>\n",
       "      <td>2017-01-12</td>\n",
       "      <td>807.14</td>\n",
       "      <td>807.39</td>\n",
       "      <td>799.17</td>\n",
       "      <td>806.36</td>\n",
       "      <td>1353100.0</td>\n",
       "    </tr>\n",
       "    <tr>\n",
       "      <th>8</th>\n",
       "      <td>2017-01-13</td>\n",
       "      <td>807.48</td>\n",
       "      <td>811.22</td>\n",
       "      <td>806.69</td>\n",
       "      <td>807.88</td>\n",
       "      <td>1099200.0</td>\n",
       "    </tr>\n",
       "    <tr>\n",
       "      <th>9</th>\n",
       "      <td>2017-01-17</td>\n",
       "      <td>807.08</td>\n",
       "      <td>807.14</td>\n",
       "      <td>800.37</td>\n",
       "      <td>804.61</td>\n",
       "      <td>1362100.0</td>\n",
       "    </tr>\n",
       "    <tr>\n",
       "      <th>10</th>\n",
       "      <td>2017-01-18</td>\n",
       "      <td>805.81</td>\n",
       "      <td>806.21</td>\n",
       "      <td>800.99</td>\n",
       "      <td>806.07</td>\n",
       "      <td>1294400.0</td>\n",
       "    </tr>\n",
       "    <tr>\n",
       "      <th>11</th>\n",
       "      <td>2017-01-19</td>\n",
       "      <td>805.12</td>\n",
       "      <td>809.48</td>\n",
       "      <td>801.80</td>\n",
       "      <td>802.17</td>\n",
       "      <td>919300.0</td>\n",
       "    </tr>\n",
       "    <tr>\n",
       "      <th>12</th>\n",
       "      <td>2017-01-20</td>\n",
       "      <td>806.91</td>\n",
       "      <td>806.91</td>\n",
       "      <td>801.69</td>\n",
       "      <td>805.02</td>\n",
       "      <td>1670000.0</td>\n",
       "    </tr>\n",
       "    <tr>\n",
       "      <th>13</th>\n",
       "      <td>2017-01-23</td>\n",
       "      <td>807.25</td>\n",
       "      <td>820.87</td>\n",
       "      <td>803.74</td>\n",
       "      <td>819.31</td>\n",
       "      <td>1963600.0</td>\n",
       "    </tr>\n",
       "    <tr>\n",
       "      <th>14</th>\n",
       "      <td>2017-01-24</td>\n",
       "      <td>822.30</td>\n",
       "      <td>825.90</td>\n",
       "      <td>817.82</td>\n",
       "      <td>823.87</td>\n",
       "      <td>1474000.0</td>\n",
       "    </tr>\n",
       "    <tr>\n",
       "      <th>15</th>\n",
       "      <td>2017-01-25</td>\n",
       "      <td>829.62</td>\n",
       "      <td>835.77</td>\n",
       "      <td>825.06</td>\n",
       "      <td>835.67</td>\n",
       "      <td>1494500.0</td>\n",
       "    </tr>\n",
       "    <tr>\n",
       "      <th>16</th>\n",
       "      <td>2017-01-26</td>\n",
       "      <td>837.81</td>\n",
       "      <td>838.00</td>\n",
       "      <td>827.01</td>\n",
       "      <td>832.15</td>\n",
       "      <td>2973900.0</td>\n",
       "    </tr>\n",
       "    <tr>\n",
       "      <th>17</th>\n",
       "      <td>2017-01-27</td>\n",
       "      <td>834.71</td>\n",
       "      <td>841.95</td>\n",
       "      <td>820.44</td>\n",
       "      <td>823.31</td>\n",
       "      <td>2965800.0</td>\n",
       "    </tr>\n",
       "    <tr>\n",
       "      <th>18</th>\n",
       "      <td>2017-01-30</td>\n",
       "      <td>814.66</td>\n",
       "      <td>815.84</td>\n",
       "      <td>799.80</td>\n",
       "      <td>802.32</td>\n",
       "      <td>3246600.0</td>\n",
       "    </tr>\n",
       "    <tr>\n",
       "      <th>19</th>\n",
       "      <td>2017-01-31</td>\n",
       "      <td>796.86</td>\n",
       "      <td>801.25</td>\n",
       "      <td>790.52</td>\n",
       "      <td>796.79</td>\n",
       "      <td>2160600.0</td>\n",
       "    </tr>\n",
       "  </tbody>\n",
       "</table>\n",
       "</div>"
      ],
      "text/plain": [
       "         Date    Open    High     Low   Close     Volume\n",
       "0  2017-01-03  778.81  789.63  775.80  786.14  1657300.0\n",
       "1  2017-01-04  788.36  791.34  783.16  786.90  1073000.0\n",
       "2  2017-01-05  786.08  794.48  785.02  794.02  1335200.0\n",
       "3  2017-01-06  795.26  807.90  792.20  806.15  1640200.0\n",
       "4  2017-01-09  806.40  809.97  802.83  806.65  1272400.0\n",
       "5  2017-01-10  807.86  809.13  803.51  804.79  1176800.0\n",
       "6  2017-01-11  805.00  808.15  801.37  807.91  1065900.0\n",
       "7  2017-01-12  807.14  807.39  799.17  806.36  1353100.0\n",
       "8  2017-01-13  807.48  811.22  806.69  807.88  1099200.0\n",
       "9  2017-01-17  807.08  807.14  800.37  804.61  1362100.0\n",
       "10 2017-01-18  805.81  806.21  800.99  806.07  1294400.0\n",
       "11 2017-01-19  805.12  809.48  801.80  802.17   919300.0\n",
       "12 2017-01-20  806.91  806.91  801.69  805.02  1670000.0\n",
       "13 2017-01-23  807.25  820.87  803.74  819.31  1963600.0\n",
       "14 2017-01-24  822.30  825.90  817.82  823.87  1474000.0\n",
       "15 2017-01-25  829.62  835.77  825.06  835.67  1494500.0\n",
       "16 2017-01-26  837.81  838.00  827.01  832.15  2973900.0\n",
       "17 2017-01-27  834.71  841.95  820.44  823.31  2965800.0\n",
       "18 2017-01-30  814.66  815.84  799.80  802.32  3246600.0\n",
       "19 2017-01-31  796.86  801.25  790.52  796.79  2160600.0"
      ]
     },
     "execution_count": 174,
     "metadata": {},
     "output_type": "execute_result"
    }
   ],
   "source": [
    "df_test.head(20)"
   ]
  },
  {
   "cell_type": "code",
   "execution_count": 175,
   "id": "e11c0b77",
   "metadata": {},
   "outputs": [
    {
     "data": {
      "text/html": [
       "<div>\n",
       "<style scoped>\n",
       "    .dataframe tbody tr th:only-of-type {\n",
       "        vertical-align: middle;\n",
       "    }\n",
       "\n",
       "    .dataframe tbody tr th {\n",
       "        vertical-align: top;\n",
       "    }\n",
       "\n",
       "    .dataframe thead th {\n",
       "        text-align: right;\n",
       "    }\n",
       "</style>\n",
       "<table border=\"1\" class=\"dataframe\">\n",
       "  <thead>\n",
       "    <tr style=\"text-align: right;\">\n",
       "      <th></th>\n",
       "      <th>Open</th>\n",
       "      <th>High</th>\n",
       "      <th>Low</th>\n",
       "      <th>Volume</th>\n",
       "    </tr>\n",
       "  </thead>\n",
       "  <tbody>\n",
       "    <tr>\n",
       "      <th>0</th>\n",
       "      <td>778.81</td>\n",
       "      <td>789.63</td>\n",
       "      <td>775.80</td>\n",
       "      <td>1657300.0</td>\n",
       "    </tr>\n",
       "    <tr>\n",
       "      <th>1</th>\n",
       "      <td>788.36</td>\n",
       "      <td>791.34</td>\n",
       "      <td>783.16</td>\n",
       "      <td>1073000.0</td>\n",
       "    </tr>\n",
       "    <tr>\n",
       "      <th>2</th>\n",
       "      <td>786.08</td>\n",
       "      <td>794.48</td>\n",
       "      <td>785.02</td>\n",
       "      <td>1335200.0</td>\n",
       "    </tr>\n",
       "    <tr>\n",
       "      <th>3</th>\n",
       "      <td>795.26</td>\n",
       "      <td>807.90</td>\n",
       "      <td>792.20</td>\n",
       "      <td>1640200.0</td>\n",
       "    </tr>\n",
       "    <tr>\n",
       "      <th>4</th>\n",
       "      <td>806.40</td>\n",
       "      <td>809.97</td>\n",
       "      <td>802.83</td>\n",
       "      <td>1272400.0</td>\n",
       "    </tr>\n",
       "    <tr>\n",
       "      <th>5</th>\n",
       "      <td>807.86</td>\n",
       "      <td>809.13</td>\n",
       "      <td>803.51</td>\n",
       "      <td>1176800.0</td>\n",
       "    </tr>\n",
       "    <tr>\n",
       "      <th>6</th>\n",
       "      <td>805.00</td>\n",
       "      <td>808.15</td>\n",
       "      <td>801.37</td>\n",
       "      <td>1065900.0</td>\n",
       "    </tr>\n",
       "    <tr>\n",
       "      <th>7</th>\n",
       "      <td>807.14</td>\n",
       "      <td>807.39</td>\n",
       "      <td>799.17</td>\n",
       "      <td>1353100.0</td>\n",
       "    </tr>\n",
       "    <tr>\n",
       "      <th>8</th>\n",
       "      <td>807.48</td>\n",
       "      <td>811.22</td>\n",
       "      <td>806.69</td>\n",
       "      <td>1099200.0</td>\n",
       "    </tr>\n",
       "    <tr>\n",
       "      <th>9</th>\n",
       "      <td>807.08</td>\n",
       "      <td>807.14</td>\n",
       "      <td>800.37</td>\n",
       "      <td>1362100.0</td>\n",
       "    </tr>\n",
       "    <tr>\n",
       "      <th>10</th>\n",
       "      <td>805.81</td>\n",
       "      <td>806.21</td>\n",
       "      <td>800.99</td>\n",
       "      <td>1294400.0</td>\n",
       "    </tr>\n",
       "    <tr>\n",
       "      <th>11</th>\n",
       "      <td>805.12</td>\n",
       "      <td>809.48</td>\n",
       "      <td>801.80</td>\n",
       "      <td>919300.0</td>\n",
       "    </tr>\n",
       "    <tr>\n",
       "      <th>12</th>\n",
       "      <td>806.91</td>\n",
       "      <td>806.91</td>\n",
       "      <td>801.69</td>\n",
       "      <td>1670000.0</td>\n",
       "    </tr>\n",
       "    <tr>\n",
       "      <th>13</th>\n",
       "      <td>807.25</td>\n",
       "      <td>820.87</td>\n",
       "      <td>803.74</td>\n",
       "      <td>1963600.0</td>\n",
       "    </tr>\n",
       "    <tr>\n",
       "      <th>14</th>\n",
       "      <td>822.30</td>\n",
       "      <td>825.90</td>\n",
       "      <td>817.82</td>\n",
       "      <td>1474000.0</td>\n",
       "    </tr>\n",
       "    <tr>\n",
       "      <th>15</th>\n",
       "      <td>829.62</td>\n",
       "      <td>835.77</td>\n",
       "      <td>825.06</td>\n",
       "      <td>1494500.0</td>\n",
       "    </tr>\n",
       "    <tr>\n",
       "      <th>16</th>\n",
       "      <td>837.81</td>\n",
       "      <td>838.00</td>\n",
       "      <td>827.01</td>\n",
       "      <td>2973900.0</td>\n",
       "    </tr>\n",
       "    <tr>\n",
       "      <th>17</th>\n",
       "      <td>834.71</td>\n",
       "      <td>841.95</td>\n",
       "      <td>820.44</td>\n",
       "      <td>2965800.0</td>\n",
       "    </tr>\n",
       "    <tr>\n",
       "      <th>18</th>\n",
       "      <td>814.66</td>\n",
       "      <td>815.84</td>\n",
       "      <td>799.80</td>\n",
       "      <td>3246600.0</td>\n",
       "    </tr>\n",
       "    <tr>\n",
       "      <th>19</th>\n",
       "      <td>796.86</td>\n",
       "      <td>801.25</td>\n",
       "      <td>790.52</td>\n",
       "      <td>2160600.0</td>\n",
       "    </tr>\n",
       "  </tbody>\n",
       "</table>\n",
       "</div>"
      ],
      "text/plain": [
       "      Open    High     Low     Volume\n",
       "0   778.81  789.63  775.80  1657300.0\n",
       "1   788.36  791.34  783.16  1073000.0\n",
       "2   786.08  794.48  785.02  1335200.0\n",
       "3   795.26  807.90  792.20  1640200.0\n",
       "4   806.40  809.97  802.83  1272400.0\n",
       "5   807.86  809.13  803.51  1176800.0\n",
       "6   805.00  808.15  801.37  1065900.0\n",
       "7   807.14  807.39  799.17  1353100.0\n",
       "8   807.48  811.22  806.69  1099200.0\n",
       "9   807.08  807.14  800.37  1362100.0\n",
       "10  805.81  806.21  800.99  1294400.0\n",
       "11  805.12  809.48  801.80   919300.0\n",
       "12  806.91  806.91  801.69  1670000.0\n",
       "13  807.25  820.87  803.74  1963600.0\n",
       "14  822.30  825.90  817.82  1474000.0\n",
       "15  829.62  835.77  825.06  1494500.0\n",
       "16  837.81  838.00  827.01  2973900.0\n",
       "17  834.71  841.95  820.44  2965800.0\n",
       "18  814.66  815.84  799.80  3246600.0\n",
       "19  796.86  801.25  790.52  2160600.0"
      ]
     },
     "execution_count": 175,
     "metadata": {},
     "output_type": "execute_result"
    }
   ],
   "source": [
    "df_test_y = df_test['Close']\n",
    "df_test_x = df_test.drop('Close',axis=1)\n",
    "df_test_x = df_test_x.drop('Date',axis=1)\n",
    "df_test_x"
   ]
  },
  {
   "cell_type": "code",
   "execution_count": 176,
   "id": "b20601db",
   "metadata": {},
   "outputs": [
    {
     "data": {
      "text/plain": [
       "0.21592476336302124"
      ]
     },
     "execution_count": 176,
     "metadata": {},
     "output_type": "execute_result"
    }
   ],
   "source": [
    "model.score(x_test,y_test)"
   ]
  },
  {
   "cell_type": "code",
   "execution_count": 177,
   "id": "ec12bf6f",
   "metadata": {},
   "outputs": [],
   "source": [
    "y_test_predict = model.predict(df_test_x)"
   ]
  },
  {
   "cell_type": "code",
   "execution_count": 178,
   "id": "1535c526",
   "metadata": {},
   "outputs": [],
   "source": [
    "dataToPlot_testData = pd.DataFrame({'Actual Value ':df_test['Close'],'Predicted Value ':y_test_predict})"
   ]
  },
  {
   "cell_type": "code",
   "execution_count": 179,
   "id": "3987c8cb",
   "metadata": {},
   "outputs": [
    {
     "data": {
      "text/html": [
       "<div>\n",
       "<style scoped>\n",
       "    .dataframe tbody tr th:only-of-type {\n",
       "        vertical-align: middle;\n",
       "    }\n",
       "\n",
       "    .dataframe tbody tr th {\n",
       "        vertical-align: top;\n",
       "    }\n",
       "\n",
       "    .dataframe thead th {\n",
       "        text-align: right;\n",
       "    }\n",
       "</style>\n",
       "<table border=\"1\" class=\"dataframe\">\n",
       "  <thead>\n",
       "    <tr style=\"text-align: right;\">\n",
       "      <th></th>\n",
       "      <th>Actual Value</th>\n",
       "      <th>Predicted Value</th>\n",
       "    </tr>\n",
       "  </thead>\n",
       "  <tbody>\n",
       "    <tr>\n",
       "      <th>0</th>\n",
       "      <td>786.14</td>\n",
       "      <td>749.515335</td>\n",
       "    </tr>\n",
       "    <tr>\n",
       "      <th>1</th>\n",
       "      <td>786.90</td>\n",
       "      <td>795.757684</td>\n",
       "    </tr>\n",
       "    <tr>\n",
       "      <th>2</th>\n",
       "      <td>794.02</td>\n",
       "      <td>789.435126</td>\n",
       "    </tr>\n",
       "    <tr>\n",
       "      <th>3</th>\n",
       "      <td>806.15</td>\n",
       "      <td>738.573090</td>\n",
       "    </tr>\n",
       "    <tr>\n",
       "      <th>4</th>\n",
       "      <td>806.65</td>\n",
       "      <td>824.792794</td>\n",
       "    </tr>\n",
       "    <tr>\n",
       "      <th>5</th>\n",
       "      <td>804.79</td>\n",
       "      <td>838.787645</td>\n",
       "    </tr>\n",
       "    <tr>\n",
       "      <th>6</th>\n",
       "      <td>807.91</td>\n",
       "      <td>820.476884</td>\n",
       "    </tr>\n",
       "    <tr>\n",
       "      <th>7</th>\n",
       "      <td>806.36</td>\n",
       "      <td>816.935895</td>\n",
       "    </tr>\n",
       "    <tr>\n",
       "      <th>8</th>\n",
       "      <td>807.88</td>\n",
       "      <td>847.175172</td>\n",
       "    </tr>\n",
       "    <tr>\n",
       "      <th>9</th>\n",
       "      <td>804.61</td>\n",
       "      <td>832.763975</td>\n",
       "    </tr>\n",
       "    <tr>\n",
       "      <th>10</th>\n",
       "      <td>806.07</td>\n",
       "      <td>846.135406</td>\n",
       "    </tr>\n",
       "    <tr>\n",
       "      <th>11</th>\n",
       "      <td>802.17</td>\n",
       "      <td>805.542129</td>\n",
       "    </tr>\n",
       "    <tr>\n",
       "      <th>12</th>\n",
       "      <td>805.02</td>\n",
       "      <td>860.256900</td>\n",
       "    </tr>\n",
       "    <tr>\n",
       "      <th>13</th>\n",
       "      <td>819.31</td>\n",
       "      <td>741.915120</td>\n",
       "    </tr>\n",
       "    <tr>\n",
       "      <th>14</th>\n",
       "      <td>823.87</td>\n",
       "      <td>831.488708</td>\n",
       "    </tr>\n",
       "    <tr>\n",
       "      <th>15</th>\n",
       "      <td>835.67</td>\n",
       "      <td>808.181217</td>\n",
       "    </tr>\n",
       "    <tr>\n",
       "      <th>16</th>\n",
       "      <td>832.15</td>\n",
       "      <td>863.622010</td>\n",
       "    </tr>\n",
       "    <tr>\n",
       "      <th>17</th>\n",
       "      <td>823.31</td>\n",
       "      <td>748.060318</td>\n",
       "    </tr>\n",
       "    <tr>\n",
       "      <th>18</th>\n",
       "      <td>802.32</td>\n",
       "      <td>805.272064</td>\n",
       "    </tr>\n",
       "    <tr>\n",
       "      <th>19</th>\n",
       "      <td>796.79</td>\n",
       "      <td>812.257193</td>\n",
       "    </tr>\n",
       "  </tbody>\n",
       "</table>\n",
       "</div>"
      ],
      "text/plain": [
       "    Actual Value   Predicted Value \n",
       "0          786.14        749.515335\n",
       "1          786.90        795.757684\n",
       "2          794.02        789.435126\n",
       "3          806.15        738.573090\n",
       "4          806.65        824.792794\n",
       "5          804.79        838.787645\n",
       "6          807.91        820.476884\n",
       "7          806.36        816.935895\n",
       "8          807.88        847.175172\n",
       "9          804.61        832.763975\n",
       "10         806.07        846.135406\n",
       "11         802.17        805.542129\n",
       "12         805.02        860.256900\n",
       "13         819.31        741.915120\n",
       "14         823.87        831.488708\n",
       "15         835.67        808.181217\n",
       "16         832.15        863.622010\n",
       "17         823.31        748.060318\n",
       "18         802.32        805.272064\n",
       "19         796.79        812.257193"
      ]
     },
     "execution_count": 179,
     "metadata": {},
     "output_type": "execute_result"
    }
   ],
   "source": [
    "dataToPlot_testData"
   ]
  },
  {
   "cell_type": "code",
   "execution_count": 180,
   "id": "c33cfc0e",
   "metadata": {},
   "outputs": [
    {
     "data": {
      "image/png": "[encoded data removed]",
      "text/plain": [
       "<Figure size 1080x432 with 1 Axes>"
      ]
     },
     "metadata": {},
     "output_type": "display_data"
    }
   ],
   "source": [
    "plt.figure(figsize=(15,6))\n",
    "plt.plot(np.arange(1,dataToPlot_testData['Actual Value '].count()+1),df_test['Close'],'--o',color='g')\n",
    "plt.plot(np.arange(1,dataToPlot_testData['Actual Value '].count()+1),y_test_predict,'--o',color = 'b')\n",
    "\n",
    "plt.title('Close Price',size=15)\n",
    "plt.ylabel('Actual vs Predicted Price',size=12)\n",
    "plt.xlabel('nth Day',size=12)\n",
    "plt.legend(['Actual','Predicted'],loc=4)\n",
    "plt.show()"
   ]
  },
  {
   "cell_type": "code",
   "execution_count": 181,
   "id": "86880261",
   "metadata": {},
   "outputs": [
    {
     "data": {
      "text/plain": [
       "37.730185341890284"
      ]
     },
     "execution_count": 181,
     "metadata": {},
     "output_type": "execute_result"
    }
   ],
   "source": [
    "import math\n",
    "from sklearn.metrics import mean_squared_error as mse\n",
    "rmse = math.sqrt(mse(dataToPlot_testData['Actual Value '],y_test_predict))\n",
    "rmse"
   ]
  },
  {
   "cell_type": "code",
   "execution_count": null,
   "id": "3dbef312",
   "metadata": {},
   "outputs": [],
   "source": []
  }
 ],
 "metadata": {
  "kernelspec": {
   "display_name": "Python 3",
   "language": "python",
   "name": "python3"
  },
  "language_info": {
   "codemirror_mode": {
    "name": "ipython",
    "version": 3
   },
   "file_extension": ".py",
   "mimetype": "text/x-python",
   "name": "python",
   "nbconvert_exporter": "python",
   "pygments_lexer": "ipython3",
   "version": "3.8.8"
  }
 },
 "nbformat": 4,
 "nbformat_minor": 5
}
